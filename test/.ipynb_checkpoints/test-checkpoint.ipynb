{
 "cells": [
  {
   "cell_type": "code",
   "execution_count": 53,
   "metadata": {},
   "outputs": [],
   "source": [
    "possible_values = \"\"\"Vitamin A\n",
    "Vitamin C\n",
    "Thiamin\n",
    "Riboflavin\n",
    "Niacin\n",
    "Pantothenic acid\n",
    "Vitamin B6\n",
    "Folate\n",
    "Biotin\n",
    "Vitamin B12\n",
    "Vitamin D\n",
    "Vitamin E\n",
    "Vitamin K\n",
    "Cobalamin\n",
    "Calcium\n",
    "Iron\n",
    "Phosphorus\n",
    "Iodine\n",
    "Magnesium\n",
    "Zinc\n",
    "Selenium\n",
    "Copper\n",
    "Manganese\n",
    "Chromium\n",
    "Molybdenum\n",
    "Chloride\n",
    "total fat\n",
    "calories\n",
    "serving size\n",
    "saturated fat\n",
    "Monounsaturated fat\n",
    "cholesterol\n",
    "sodium\n",
    "potassium\n",
    "Total Carbohydrate\n",
    "Dietary fiber\n",
    "Sugar\n",
    "Protein\n",
    "trans fat\"\"\""
   ]
  },
  {
   "cell_type": "code",
   "execution_count": 54,
   "metadata": {},
   "outputs": [],
   "source": [
    "possible_values = possible_values.lower().split('\\n')"
   ]
  },
  {
   "cell_type": "code",
   "execution_count": 178,
   "metadata": {},
   "outputs": [],
   "source": [
    "from requests import get\n",
    "from requests.exceptions import RequestException\n",
    "from contextlib import closing\n",
    "from bs4 import BeautifulSoup\n",
    "import re\n",
    "from helper import simple_get, is_good_response, log_error"
   ]
  },
  {
   "cell_type": "markdown",
   "metadata": {},
   "source": [
    "### Prototyping Google Item Search- Ingredient Extraction"
   ]
  },
  {
   "cell_type": "code",
   "execution_count": 179,
   "metadata": {},
   "outputs": [
    {
     "data": {
      "text/plain": [
       "'saturated fat 0 g'"
      ]
     },
     "execution_count": 179,
     "metadata": {},
     "output_type": "execute_result"
    }
   ],
   "source": [
    "string = \"https://www.google.com/search?q=sprite+nutrition+facts\"\n",
    "test_string = simple_get(string)\n",
    "saturated_fat = re.compile('saturated fat\\s+[0-9]{1,2}\\s+g')\n",
    "a = re.search(saturated_fat, str(test_string).lower())\n",
    "a.group()"
   ]
  },
  {
   "cell_type": "code",
   "execution_count": 181,
   "metadata": {},
   "outputs": [],
   "source": [
    "r1 = a.group()"
   ]
  },
  {
   "cell_type": "code",
   "execution_count": 182,
   "metadata": {},
   "outputs": [],
   "source": [
    "fat2 = re.compile(\"(saturated fat)([\\W\\w\\D\\d]*)\")"
   ]
  },
  {
   "cell_type": "code",
   "execution_count": 183,
   "metadata": {},
   "outputs": [],
   "source": [
    "b = re.search(fat2, r1)"
   ]
  },
  {
   "cell_type": "code",
   "execution_count": 194,
   "metadata": {},
   "outputs": [],
   "source": [
    "unit = re.search(\"\\d+\",b.group(2))\n",
    "value = re.search(\"[a-z]+\",b.group(2))"
   ]
  },
  {
   "cell_type": "code",
   "execution_count": 195,
   "metadata": {},
   "outputs": [
    {
     "data": {
      "text/plain": [
       "'0'"
      ]
     },
     "execution_count": 195,
     "metadata": {},
     "output_type": "execute_result"
    }
   ],
   "source": [
    "unit.group()"
   ]
  },
  {
   "cell_type": "code",
   "execution_count": 196,
   "metadata": {},
   "outputs": [
    {
     "data": {
      "text/plain": [
       "'g'"
      ]
     },
     "execution_count": 196,
     "metadata": {},
     "output_type": "execute_result"
    }
   ],
   "source": [
    "value.group()"
   ]
  },
  {
   "cell_type": "code",
   "execution_count": 197,
   "metadata": {},
   "outputs": [],
   "source": [
    "results = {}"
   ]
  },
  {
   "cell_type": "code",
   "execution_count": null,
   "metadata": {},
   "outputs": [],
   "source": [
    "#RESTART HERE => dictionary of nutrient to value matching\n",
    "for element in possible_values:\n",
    "    pass"
   ]
  },
  {
   "cell_type": "code",
   "execution_count": null,
   "metadata": {},
   "outputs": [],
   "source": []
  },
  {
   "cell_type": "code",
   "execution_count": 24,
   "metadata": {},
   "outputs": [
    {
     "data": {
      "text/plain": [
       "b'<!doctype html><html lang=\"en\"><head><meta charset=\"utf-8\"><meta content=\"/images/branding/googleg/1x/googleg_standard_color_128dp.png\" itemprop=\"image\"><title>sprite nutrition facts - google search</title><script nonce=\"n+oipuwrvzzako6bp9h8xq==\">(function(){var a=window.performance;window.start=(new date).gettime();a:{var b=window;if(a){var c=a.timing;if(c){var d=c.navigationstart,e=c.responsestart;if(e>d&&e<=window.start){window.start=e;b.wsrt=e-d;break a}}a.now&&(b.wsrt=math.floor(a.now()))}}window.google=window.google||{};google.aft=function(f){f.setattribute(\"data-iml\",+new date)};}).call(this);(function(){var c=[],e=0;window.ping=function(b){-1==b.indexof(\"&zx\")&&(b+=\"&zx=\"+(new date).gettime());var a=new image,d=e++;c[d]=a;a.onerror=a.onload=a.onabort=function(){delete c[d]};a.src=b};}).call(this);</script><style>body{margin:0 auto;max-width:736px;padding:0 8px}a{color:#1967d2;text-decoration:none;tap-highlight-color:rgba(0,0,0,.1)}a:visited{color:#4b11a8}a:hover{text-decoration:underline}img{border:0}html{font-family:roboto,helveticaneue,arial,sans-serif;font-size:14px;line-height:20px;text-size-adjust:100%;color:#3c4043;word-wrap:break-word;background-color:#fff}.brswnc{background-color:#fff;border-top:1px solid #e0e0e0;height:39px;overflow:hidden}.n6rwv{height:51px;overflow-scrolling:touch;overflow-x:auto;overflow-y:hidden}.uv67qb{box-pack:justify;font-size:12px;line-height:37px;justify-content:space-between;justify-content:space-between}.uv67qb a,.uv67qb span{color:#757575;display:block;flex:none;padding:0 16px;text-align:center;text-transform:uppercase;}span.oxxup{border-bottom:2px solid #4285f4;color:#4285f4;font-weight:bold}a.ezt8xd:visited{color:#757575}.felbsf{border-left:1px solid rgba(0,0,0,.12)}header article{overflow:visible}.pg70bf{height:39px;display:box;display:flex;display:flex;width:100%}.h0pqec{position:relative;flex:1}.sbc{display:flex;width:100%}.pg70bf input{margin:2px 4px 2px 8px;}.x{width:26px;color:#757575;font:27px/38px arial, sans-serif;line-height:40px;}#qdclwb{flex:0 0 auto;width:39px;height:39px;border-bottom:0;padding:0;border-top-right-radius:8px;background-color:#3b78e7;border:1px solid #3367d6;background-image:url(data:image/gif;base64,r0lgoddhjaajapihaodr/nck+mpz/fmv96zk+/7+/5k5+kql9iwaaaaajaajaeadani63p4wykmbkcqrxdscqaemxmmealqvlcukzyc09ajfek7v/maajaclhpmvagwjsuceiza8xgayrvqv2kx2iwsiaaabknfbbakrte4icmyot8ur8datqibqfjdnafo2we6bv05wxiijigkaow==);}.sc{font-size:;position:absolute;top:39px;left:0;right:0;box-shadow:0px 2px 5px rgba(0,0,0,0.2);z-index:2;background-color:#fff}.sc>div{padding:10px 10px;padding-left:16px;padding-left:14px;border-top:1px solid #dfe1e5}.scs{background-color:#f5f5f5;}.nohixc{display:block;font-size:16px;padding:0 0 0 8px;flex:1;height:35px;outline:none;border:none;width:100%;-webkit-tap-highlight-color:rgba(0,0,0,0);overflow:hidden;}.sbc input[type=text]{background:none}.sml .col4id{display:none}.l{display:none}.sml header{background:none}.sml .l{display:block;padding:0 8px}.sml .l{letter-spacing:-1px;text-align:center;border-radius:2px 0 0 0;font:22px/36px futura, arial, sans-serif;font-smoothing:antialiased}.bz1lbb{background:#fff;border-radius:8px 8px 0 0;box-shadow:0 1px 6px rgba(32, 33, 36, 0.18);margin-top:10px}.kp7lcb{border-radius:0 0 8px 8px;box-shadow:0 2px 3px rgba(32, 33, 36, 0.18);margin-bottom:10px;overflow:hidden}.col4id{letter-spacing:-1px;text-align:center;font:22pt futura, arial, sans-serif;padding:10px 0 5px 0;height:37px;font-smoothing:antialiased}.col4id span{display:inline-block}.s591j{height:100%}.v6gwvd{color:#4285f4}.iwkuvd{color:#ea4335}.cdrq7{color:#fbcc05}.ntlr9{color:#34a853}.tj3myc{-webkit-transform:rotate(-20deg);position:relative;left:-1px;display:inline-block}footer{text-align:center;margin-top:18px}footer a,footer a:visited,.smiubb{color:#5f6368}.kstu4c{margin:0 13px}#mcljob{margin-top:36px}#mcljob>div{margin:20px}</style></head><body jsmodel=\" \"><header id=\"hdr\"><script nonce=\"n+oipuwrvzzako6bp9h8xq==\">(function(){var c=500;(function(){window.screen&&window.screen.width<=c&&window.screen.height<=c&&document.getelementbyid(\"hdr\").classlist.add(\"sml\");}).call(this);})();</script><div class=\"col4id\"><a href=\"/?sa=x&amp;ved=0ahukewja5pgaqkbjahwj_p8khqm6cp0qowgc\"><span class=\"v6gwvd\">g</span><span class=\"iwkuvd\">o</span><span class=\"cdrq7\">o</span><span class=\"v6gwvd\">g</span><span class=\"ntlr9\">l</span><span class=\"iwkuvd tj3myc\">e</span></a></div><div class=\"bz1lbb\"><form class=\"pg70bf\" id=\"sf\"><a class=\"l\" href=\"/?output=search&amp;ie=utf-8&amp;sa=x&amp;ved=0ahukewja5pgaqkbjahwj_p8khqm6cp0qpage\"><span class=\"v6gwvd\">g</span><span class=\"iwkuvd\">o</span><span class=\"cdrq7\">o</span><span class=\"v6gwvd\">g</span><span class=\"ntlr9\">l</span><span class=\"iwkuvd tj3myc\">e</span></a><input name=\"ie\" value=\"iso-8859-1\" type=\"hidden\"><div class=\"h0pqec\"><div class=\"sbc esbc\"><input class=\"nohixc\" value=\"sprite nutrition facts\" autocapitalize=\"none\" autocomplete=\"off\" name=\"q\" spellcheck=\"false\" type=\"text\"><input name=\"oq\" type=\"hidden\"><input name=\"aqs\" type=\"hidden\"><div class=\"x\">\\xd7</div><div class=\"sc\"></div></div></div><button id=\"qdclwb\" type=\"submit\"></button></form></div><noscript><meta content=\"0;url=/search?q=sprite+nutrition+facts&amp;ie=utf-8&amp;gbv=1&amp;sei=_bsjxzr0lin9_wsj9krocq\" http-equiv=\"refresh\"><style>table,div,span,p{display:none}</style><div style=\"display:block\">please click <a href=\"/search?q=sprite+nutrition+facts&amp;ie=utf-8&amp;gbv=1&amp;sei=_bsjxzr0lin9_wsj9krocq\">here</a> if you are not redirected within a few seconds.</div></noscript></header><div id=\"main\"><div><div class=\"kp7lcb\"> <div class=\"brswnc\"> <div class=\"n6rwv\"> <div class=\"pg70bf uv67qb\"> <span class=\"oxxup\">all</span><a class=\"ezt8xd\" href=\"/search?q=sprite+nutrition+facts&amp;ie=utf-8&amp;source=lnms&amp;tbm=isch&amp;sa=x&amp;ved=0ahukewja5pgaqkbjahwj_p8khqm6cp0q_auiccgb\">images</a><a class=\"ezt8xd\" href=\"/search?q=sprite+nutrition+facts&amp;ie=utf-8&amp;source=lnms&amp;tbm=shop&amp;sa=x&amp;ved=0ahukewja5pgaqkbjahwj_p8khqm6cp0q_auicsgc\">shopping</a><a class=\"ezt8xd\" href=\"/search?q=sprite+nutrition+facts&amp;ie=utf-8&amp;source=lnms&amp;tbm=nws&amp;sa=x&amp;ved=0ahukewja5pgaqkbjahwj_p8khqm6cp0q_auicigd\">news</a>   <a href=\"https://maps.google.com/maps?q=sprite+nutrition+facts&amp;um=1&amp;ie=utf-8&amp;sa=x&amp;ved=0ahukewja5pgaqkbjahwj_p8khqm6cp0q_auicyge\">maps</a>  <a href=\"/search?q=sprite+nutrition+facts&amp;ie=utf-8&amp;source=lnms&amp;tbm=vid&amp;sa=x&amp;ved=0ahukewja5pgaqkbjahwj_p8khqm6cp0q_auidcgf\">videos</a>  <a href=\"/search?q=sprite+nutrition+facts&amp;ie=utf-8&amp;source=lnms&amp;tbm=bks&amp;sa=x&amp;ved=0ahukewja5pgaqkbjahwj_p8khqm6cp0q_auidsgg\">books</a>     <div class=\"felbsf\"><a href=\"/advanced_search\" style=\"white-space:nowrap\" id=\"st-toggle\" role=\"button\">search tools</a></div> </div> </div> </div> </div><div class=\"pg70bf wesjbd zinbbc xpd o9g5cc uupgi\" style=\"display:none\" id=\"st-card\"><style>.wesjbd{background-color:#fff;height:44px;white-space:nowrap}.copu8c{height:60px;overflow-scrolling:touch;overflow-x:auto;overflow-y:hidden}.xj2aue{height:44px;overflow:hidden}.rnngze{margin:11px 16px}.wesjbd div,.wesjbd a,.wesjbd li{outline-width:0;outline:none}</style><div class=\"xj2aue\"><div class=\"copu8c\"><div class=\"rnngze\"><style>.pa9j5{display:inline-block}.rxaofd{display:inline-block;height:22px;position:relative;padding-top:0;padding-bottom:0;padding-right:16px;padding-left:0;line-height:22px;cursor:pointer;text-transform:uppercase;font-size:12px;color:#757575}.sa1toc{display:none;position:absolute;background:#fff;border:1px solid #d6d6d6;box-shadow:0 2px 4px rgba(0,0,0,0.3);margin:0;white-space:nowrap;z-index:103;line-height:17px;padding-top:5px;padding-bottom:5px;padding-left:0px}.pa9j5:hover .sa1toc{display:block}.mgsy8d a:active,.rxaofd:active{color:#4285f4}</style><div class=\"pa9j5\"><div class=\"rxaofd\" role=\"button\" tabindex=\"0\"><style>.twmouc{display:inline-block;padding-right:14px;white-space:nowrap}.vqyugf{font-weight:bold}.omtizf{border-color:#909090 transparent;border-style:solid;border-width:4px 4px 0 4px;width:0;height:0;margin-left:-10px;top:50%;margin-top:-2px;position:absolute}.rxaofd:active .omtizf{border-color:#4285f4 transparent}</style><div class=\"twmouc\">any time</div><span class=\"omtizf\"></span></div><ul class=\"sa1toc ozatm\"><style>.ozatm{font-size:12px;text-transform:uppercase}.ozatm .ynfsl,.ozatm li{list-style-type:none;list-style-position:outside;list-style-image:none}.ynfsl.skuj4c,.ynfsl a{color:rgba(0,0,0,0.54);text-decoration:none;padding:6px 44px 6px 14px;line-height:17px;display:block}.skuj4c{background-image:url(//ssl.gstatic.com/ui/v1/menu/checkmark2.png);background-position:right center;background-repeat:no-repeat}.skuj4c:active{background-color:#f5f5f5}</style><li class=\"ynfsl skuj4c\">any time</li><li class=\"ynfsl\"><a href=\"/search?q=sprite+nutrition+facts&amp;ie=utf-8&amp;source=lnt&amp;tbs=qdr:h&amp;sa=x&amp;ved=0ahukewja5pgaqkbjahwj_p8khqm6cp0qpwuidw\">past hour</a></li><li class=\"ynfsl\"><a href=\"/search?q=sprite+nutrition+facts&amp;ie=utf-8&amp;source=lnt&amp;tbs=qdr:d&amp;sa=x&amp;ved=0ahukewja5pgaqkbjahwj_p8khqm6cp0qpwuiea\">past 24 hours</a></li><li class=\"ynfsl\"><a href=\"/search?q=sprite+nutrition+facts&amp;ie=utf-8&amp;source=lnt&amp;tbs=qdr:w&amp;sa=x&amp;ved=0ahukewja5pgaqkbjahwj_p8khqm6cp0qpwuieq\">past week</a></li><li class=\"ynfsl\"><a href=\"/search?q=sprite+nutrition+facts&amp;ie=utf-8&amp;source=lnt&amp;tbs=qdr:m&amp;sa=x&amp;ved=0ahukewja5pgaqkbjahwj_p8khqm6cp0qpwuieg\">past month</a></li><li class=\"ynfsl\"><a href=\"/search?q=sprite+nutrition+facts&amp;ie=utf-8&amp;source=lnt&amp;tbs=qdr:y&amp;sa=x&amp;ved=0ahukewja5pgaqkbjahwj_p8khqm6cp0qpwuiew\">past year</a></li></ul></div><div class=\"pa9j5\"><div class=\"rxaofd\" role=\"button\" tabindex=\"0\"><div class=\"twmouc\">all results</div><span class=\"omtizf\"></span></div><ul class=\"sa1toc ozatm\"><li class=\"ynfsl skuj4c\">all results</li><li class=\"ynfsl\"><a href=\"/search?q=sprite+nutrition+facts&amp;ie=utf-8&amp;source=lnt&amp;tbs=li:1&amp;sa=x&amp;ved=0ahukewja5pgaqkbjahwj_p8khqm6cp0qpwuifq\">verbatim</a></li></ul></div></div></div></div><script nonce=\"n+oipuwrvzzako6bp9h8xq==\">(function(){var a=document.getelementbyid(\"st-toggle\"),b=document.getelementbyid(\"st-card\");a&&b&&a.addeventlistener(\"click\",function(c){b.style.display=b.style.display?\"\":\"none\";c.preventdefault()},!1);}).call(this);</script></div></div><style>.zinbbc{background-color:#fff;margin-bottom:10px;box-shadow:0 1px 6px rgba(32, 33, 36, 0.28);border-radius:8px}.uupgi{font-size:14px;line-height:20px;}.o9g5cc>*:first-child{border-top-left-radius:8px;border-top-right-radius:8px}.o9g5cc>*:last-child{border-bottom-left-radius:8px;border-bottom-right-radius:8px}.rlshyf,.bmp5tf{padding-top:12px;padding-bottom:12px}.w1c3le,.bmp5tf,.g5nbbd{padding-left:16px;padding-right:16px;}.g5nbbd{padding-bottom:12px}.djmepd,.qc4zr{display:flex;}.qc4zr{align-items:center}a.fdysqf{color:#4b11a8}.c8nzq{display:block}.muxgbd{font-size:14px;font-family:roboto,helveticaneue,arial,sans-serif;line-height:20px;padding-top:1px;margin-bottom:-1px}.muxgbd.v0nncb{font-size:16px;line-height:20px;padding-top:1px;margin-bottom:-1px;}.alf0z{text-overflow:ellipsis;white-space:nowrap;overflow:hidden}.zbelhe{overflow:hidden;text-overflow:ellipsis;white-space:nowrap;}.lylwlc{color:#202124}.rtddkc{margin-right:8px}.l3rxn{font-style:italic}.vqfmtc{background-color:#fff;color:#006621;display:inline-block;font-size:11px;margin-left:0px}.ncen9e{border-radius:3px;border:1px solid #006621;padding:1px 3px 0 2px;line-height:11px;margin-right:7px;}.p8aidd{padding:0;margin-right:0}.sk2ppe{white-space:nowrap;overflow:hidden;text-overflow:ellipsis}.qzeoue{color:#006621;white-space:nowrap}hr{border:0;border-bottom:1px solid #dfe1e5;margin:0;}.buybke,.hsnfbf{margin-left:16px}.buybke,.om2ga{margin-right:16px}.xo7rhc{margin:0 -16px}.p3htsb{overflow:auto}.hs2p9e{clear:both;margin:-4px -16px -12px;overflow:hidden}div.lgnr0e{padding-top:4px;padding-bottom:12px;}.jm1lgf{margin-top:-8px}.m6ffe{display:inline-block;padding:8px 0}.iauuob{display:inline-block;padding:8px 0 8px 26px}.o0xr7{height:36px;line-height:36px;padding:0 16px;margin-bottom:16px;text-transform:uppercase}.qurxeb{padding-top:8px;}.xpc .hwc,.xpx .hwx{display:none}.lcvdhb{margin:0 16px}.jddyo{padding-bottom:12px}.acums{border-collapse:collapse;border-spacing:0;width:100%}.qqgqae{margin-top:12px}.jshyxd .qqgqae{margin-bottom:12px}.vsm1sf{display:block;float:right;padding-left:16px}.bd3utf{clear:both}.jfp3ef{padding:12px 16px 12px}.bneawe{white-space:pre-line;word-wrap:break-word}.deivcb{font-size:16px;line-height:20px;font-weight:400}.deivcb.hrgdeb{color:rgba(255,255,255,1)}.deivcb.ap7wnd{color:#202124}.tad8d{font-size:14px;line-height:20px}.tad8d.hrgdeb{color:rgba(255,255,255,.7)}.tad8d.ap7wnd{color:#70757a}.njm3tb{height:1px;background-color:#dfe1e5;margin:0 16px}.acums td{padding-top:0;padding-bottom:0;padding-right:8px}.acums .nvoff{padding-right:0}.jshyxd{border-bottom:1px solid #dfe1e5}.wf6kfd{vertical-align:top}.bdgxxd{float:left;margin-right:8px}.qqjnze{width:100%}.scunje{text-align:left}.bemv0{text-align:center}.wmpcfc{text-align:right}.s3v9rd{font-size:14px;line-height:20px}.s3v9rd.hrgdeb{color:rgba(255,255,255,1)}.s3v9rd.ap7wnd{color:#202124}.fcup0c{font-weight:bold}.dwrkqd{white-space:pre}.iiwm4b{box-sizing:border-box;min-height:48px}.fltxsc{text-align:center;padding:14px}.lym8w{width:14px;height:20px;position:relative;margin:0 auto}.lym8w div{position:absolute;border-left:7px solid transparent;border-right:7px solid transparent;width:0;height:0;left:0}.iyyaed{top:7px;border-top:7px solid #757575}.ecuhqe{top:4px;border-top:7px solid #fff}.aeqqub{bottom:7px;border-bottom:7px solid #757575}.ycu7eb{bottom:4px;border-bottom:7px solid #fff}.uk2dg{display:block;clear:both}.ytehub{margin-left:16px;float:right;}.vvjwjb{color:#1967d2;font-size:16px;line-height:20px}.vvjwjb a:visited{color:#4b11a8}.vvjwjb.hrgdeb{color:rgba(255,255,255,1)}.vvjwjb.hrgdeb a:visited{color:rgba(255,255,255,.7)}.upmit{font-size:14px;line-height:20px}.upmit.hrgdeb{color:rgba(255,255,255,.7)}.upmit.ap7wnd{color:rgba(0,102,33,1)}.ap5osd{padding-bottom:12px}.msx1ee{padding-left:48px;margin:0}.v9i61e{padding-bottom:8px}.xlloxe{color:#1967d2;font-size:14px;line-height:20px}.xlloxe a:visited{color:#4b11a8}.xlloxe.hrgdeb{color:rgba(255,255,255,1)}.xlloxe.hrgdeb a:visited{color:rgba(255,255,255,.7)}.r0bn4c.tr0dw{color:rgba(255,255,255,.7)}.r0bn4c.rqmqod{color:#70757a}.jljmtb{display:block}.rvlsbd{display:table;width:100%;padding-right:16px;box-sizing:border-box}.unhomf{display:table-cell;padding:12px 0 12px 16px}.d8kfbd{width:72px}.eod1kd{width:30px}.g6yjwf{display:table-cell;text-align:center;vertical-align:middle;padding:12px 0 12px 8px}.g1brt{display:table;vertical-align:top}.bzadpc{margin:0 auto 8px}.madjqc{text-align:right}.ueec3{font-size:12px;line-height:16px}.ueec3.hrgdeb{color:rgba(255,255,255,.7)}.ueec3.ap7wnd{color:#70757a}.nmymef{display:flex}.g5eflf{flex:1;display:block}.nmymef span{text-align:center}</style><div><!--sw_c_x--></div><div class=\"zinbbc xpd o9g5cc uupgi\"><div><a class=\"c8nzq bmp5tf\" href=\"http://www.google.com/aclk?sa=l&amp;ai=dchcsewipppmaqkbjahuv1gqkhdkac6eyabaaggjwag&amp;sig=aod64_1cbcrnavytk_qmw3wrsvsqueglmq&amp;ved=2ahukewja5pgaqkbjahwj_p8khqm6cp0q0qx6bagmeae&amp;adurl=\" data-al=\"1\"><div aria-level=\"3\" role=\"heading\" class=\"muxgbd v0nncb alf0z\">sprite\\xae nutrition facts | obey your thirst</div><div class=\"zbelhe muxgbd lylwlc alf0z\"><span class=\"rtddkc vqfmtc ncen9e\">ad</span><span class=\"qzeoue\">www.coca-colaproductfacts.com/</span></div></a></div><hr class=\"buybke\"><div class=\"bmp5tf\"><div class=\"muxgbd ydynvb alf0z\">coca-colaproductfacts.com has all the info you need about sprite.</div></div><div class=\"lgnr0e jm1lgf bmp5tf\"><div class=\"muxgbd v0nncb lylwlc\"><a class=\"m6ffe\" href=\"http://www.google.com/aclk?sa=l&amp;ai=dchcsewipppmaqkbjahuv1gqkhdkac6eyababggjwag&amp;sig=aod64_2l79rzo8ofbtf-amd1ebpmwacbka&amp;ved=2ahukewja5pgaqkbjahwj_p8khqm6cp0qwguoahoecawqaw&amp;adurl=\" data-al=\"1\">sprite zero\\xae facts</a></div><div class=\"muxgbd v0nncb lylwlc\"><a class=\"m6ffe\" href=\"http://www.google.com/aclk?sa=l&amp;ai=dchcsewipppmaqkbjahuv1gqkhdkac6eyabacggjwag&amp;sig=aod64_35c3wnvmadwomlnj6g6wbujlbp3w&amp;ved=2ahukewja5pgaqkbjahwj_p8khqm6cp0qwguoaxoecawqba&amp;adurl=\" data-al=\"1\">vitaminwater xxx\\xae info</a></div><div class=\"muxgbd v0nncb lylwlc\"><a class=\"m6ffe\" href=\"http://www.google.com/aclk?sa=l&amp;ai=dchcsewipppmaqkbjahuv1gqkhdkac6eyabadggjwag&amp;sig=aod64_0i20n6ggdffdw3lkfpzldw5dw1hq&amp;ved=2ahukewja5pgaqkbjahwj_p8khqm6cp0qwguoanoecawqbq&amp;adurl=\" data-al=\"1\">fresca\\xae peach citrus</a></div><div class=\"muxgbd v0nncb lylwlc\"><a class=\"m6ffe\" href=\"http://www.google.com/aclk?sa=l&amp;ai=dchcsewipppmaqkbjahuv1gqkhdkac6eyabaeggjwag&amp;sig=aod64_1pfkk7ca0ywh1ogbt2dmqtavtfxg&amp;ved=2ahukewja5pgaqkbjahwj_p8khqm6cp0qwguoa3oecawqbg&amp;adurl=\" data-al=\"1\">fanta zero\\xae facts</a></div></div></div><div><div class=\"zinbbc xpd o9g5cc uupgi\"><div class=\"xpc\"><div class=\"jfp3ef\"><a href=\"/url?q=https://www.indiamart.com/proddetail/sprite-soft-drink-18586004688.html&amp;sa=u&amp;ved=2ahukewja5pgaqkbjahwj_p8khqm6cp0qndqbmab6bagleai&amp;usg=aovvaw1af6v2ijw6hlkd9iovvigu\"><img class=\"vsm1sf\" alt=\"\" src=\"data:image/gif;base64,r0lgodlhaqabaiaaap///////yh5baekaaealaaaaaabaaeaaaictaeaow==\" style=\"max-width:72px;max-height:72px\" id=\"dimg_1\" data-deferred=\"1\"></a><span><div class=\"bneawe deivcb ap7wnd\">sprite</div></span><span><div class=\"bneawe tad8d ap7wnd\">nutrition facts</div></span><div class=\"bd3utf\"></div></div><div class=\"njm3tb\"></div><div class=\"lcvdhb\"><table class=\"acums\"><tbody><tr><td class=\"wf6kfd qqjnze scunje\"><div class=\"qqgqae\"><div class=\"bneawe s3v9rd ap7wnd\"><span class=\"fcup0c rqmqod\">amount per </span>1 medium cup 21 fl oz size cup (486 g)</div></div></td><td class=\"wf6kfd nvoff wmpcfc\"></td></tr><tr><td class=\"wf6kfd jshyxd qqjnze scunje\"><div class=\"qqgqae\"><div class=\"bneawe s3v9rd ap7wnd\"><span class=\"fcup0c rqmqod\">calories </span>192</div></div></td><td class=\"wf6kfd jshyxd nvoff wmpcfc\"></td></tr><tr><td class=\"wf6kfd jshyxd qqjnze scunje\"><div class=\"qqgqae\"></div></td><td class=\"wf6kfd jshyxd nvoff wmpcfc\"><div class=\"qqgqae\"><div class=\"bneawe dwrkqd s3v9rd ap7wnd\"><span class=\"fcup0c rqmqod\">% daily value*</span></div></div></td></tr><tr><td class=\"wf6kfd jshyxd qqjnze scunje\"><div class=\"qqgqae\"><div class=\"bneawe s3v9rd ap7wnd\"><span class=\"fcup0c rqmqod\">total fat </span>0.1 g</div></div></td><td class=\"wf6kfd jshyxd nvoff wmpcfc\"><div class=\"qqgqae\"><div class=\"bneawe dwrkqd s3v9rd ap7wnd\">0%</div></div></td></tr><tr><td class=\"wf6kfd jshyxd qqjnze scunje\"><div class=\"qqgqae\"><div class=\"bneawe s3v9rd ap7wnd\">saturated fat 0 g</div></div></td><td class=\"wf6kfd jshyxd nvoff wmpcfc\"><div class=\"qqgqae\"><div class=\"bneawe dwrkqd s3v9rd ap7wnd\">0%</div></div></td></tr><tr><td class=\"wf6kfd jshyxd qqjnze scunje\"><div class=\"qqgqae\"><div class=\"bneawe s3v9rd ap7wnd\">polyunsaturated fat 0 g</div></div></td><td class=\"wf6kfd jshyxd nvoff wmpcfc\"></td></tr><tr class=\"hwc\"><td class=\"wf6kfd jshyxd qqjnze scunje\"><div class=\"qqgqae\"><div class=\"bneawe s3v9rd ap7wnd\">monounsaturated fat 0 g</div></div></td><td class=\"wf6kfd jshyxd nvoff wmpcfc\"></td></tr><tr class=\"hwc\"><td class=\"wf6kfd jshyxd qqjnze scunje\"><div class=\"qqgqae\"><div class=\"bneawe s3v9rd ap7wnd\"><span class=\"fcup0c rqmqod\">cholesterol </span>0 mg</div></div></td><td class=\"wf6kfd jshyxd nvoff wmpcfc\"><div class=\"qqgqae\"><div class=\"bneawe dwrkqd s3v9rd ap7wnd\">0%</div></div></td></tr><tr class=\"hwc\"><td class=\"wf6kfd jshyxd qqjnze scunje\"><div class=\"qqgqae\"><div class=\"bneawe s3v9rd ap7wnd\"><span class=\"fcup0c rqmqod\">sodium </span>44 mg</div></div></td><td class=\"wf6kfd jshyxd nvoff wmpcfc\"><div class=\"qqgqae\"><div class=\"bneawe dwrkqd s3v9rd ap7wnd\">1%</div></div></td></tr><tr class=\"hwc\"><td class=\"wf6kfd jshyxd qqjnze scunje\"><div class=\"qqgqae\"><div class=\"bneawe s3v9rd ap7wnd\"><span class=\"fcup0c rqmqod\">potassium </span>5 mg</div></div></td><td class=\"wf6kfd jshyxd nvoff wmpcfc\"><div class=\"qqgqae\"><div class=\"bneawe dwrkqd s3v9rd ap7wnd\">0%</div></div></td></tr><tr class=\"hwc\"><td class=\"wf6kfd jshyxd qqjnze scunje\"><div class=\"qqgqae\"><div class=\"bneawe s3v9rd ap7wnd\"><span class=\"fcup0c rqmqod\">total carbohydrate </span>49 g</div></div></td><td class=\"wf6kfd jshyxd nvoff wmpcfc\"><div class=\"qqgqae\"><div class=\"bneawe dwrkqd s3v9rd ap7wnd\">16%</div></div></td></tr><tr class=\"hwc\"><td class=\"wf6kfd jshyxd qqjnze scunje\"><div class=\"qqgqae\"><div class=\"bneawe s3v9rd ap7wnd\">dietary fiber 0 g</div></div></td><td class=\"wf6kfd jshyxd nvoff wmpcfc\"><div class=\"qqgqae\"><div class=\"bneawe dwrkqd s3v9rd ap7wnd\">0%</div></div></td></tr><tr class=\"hwc\"><td class=\"wf6kfd jshyxd qqjnze scunje\"><div class=\"qqgqae\"><div class=\"bneawe s3v9rd ap7wnd\">sugar 44 g</div></div></td><td class=\"wf6kfd jshyxd nvoff wmpcfc\"></td></tr><tr class=\"hwc\"><td class=\"wf6kfd jshyxd qqjnze scunje\"><div class=\"qqgqae\"><div class=\"bneawe s3v9rd ap7wnd\"><span class=\"fcup0c rqmqod\">protein </span>0.2 g</div></div></td><td class=\"wf6kfd jshyxd nvoff wmpcfc\"><div class=\"qqgqae\"><div class=\"bneawe dwrkqd s3v9rd ap7wnd\">0%</div></div></td></tr><tr class=\"hwc\"><td class=\"wf6kfd jshyxd qqjnze scunje\"><div class=\"qqgqae\"><div class=\"bneawe s3v9rd ap7wnd\"><span class=\"fcup0c rqmqod\">caffeine </span>0 mg</div></div></td><td class=\"wf6kfd jshyxd nvoff wmpcfc\"></td></tr><tr class=\"hwc\"><td class=\"wf6kfd jshyxd qqjnze scunje\"><div class=\"qqgqae\"><div class=\"bneawe s3v9rd ap7wnd\">vitamin a</div></div></td><td class=\"wf6kfd jshyxd nvoff wmpcfc\"><div class=\"qqgqae\"><div class=\"bneawe dwrkqd s3v9rd ap7wnd\">0%</div></div></td></tr><tr class=\"hwc\"><td class=\"wf6kfd jshyxd qqjnze scunje\"><div class=\"qqgqae\"><div class=\"bneawe s3v9rd ap7wnd\">vitamin c</div></div></td><td class=\"wf6kfd jshyxd nvoff wmpcfc\"><div class=\"qqgqae\"><div class=\"bneawe dwrkqd s3v9rd ap7wnd\">0%</div></div></td></tr><tr class=\"hwc\"><td class=\"wf6kfd jshyxd qqjnze scunje\"><div class=\"qqgqae\"><div class=\"bneawe s3v9rd ap7wnd\">calcium</div></div></td><td class=\"wf6kfd jshyxd nvoff wmpcfc\"><div class=\"qqgqae\"><div class=\"bneawe dwrkqd s3v9rd ap7wnd\">1%</div></div></td></tr><tr class=\"hwc\"><td class=\"wf6kfd jshyxd qqjnze scunje\"><div class=\"qqgqae\"><div class=\"bneawe s3v9rd ap7wnd\">iron</div></div></td><td class=\"wf6kfd jshyxd nvoff wmpcfc\"><div class=\"qqgqae\"><div class=\"bneawe dwrkqd s3v9rd ap7wnd\">2%</div></div></td></tr><tr class=\"hwc\"><td class=\"wf6kfd jshyxd qqjnze scunje\"><div class=\"qqgqae\"><div class=\"bneawe s3v9rd ap7wnd\">vitamin d</div></div></td><td class=\"wf6kfd jshyxd nvoff wmpcfc\"><div class=\"qqgqae\"><div class=\"bneawe dwrkqd s3v9rd ap7wnd\">0%</div></div></td></tr><tr class=\"hwc\"><td class=\"wf6kfd jshyxd qqjnze scunje\"><div class=\"qqgqae\"><div class=\"bneawe s3v9rd ap7wnd\">vitamin b-6</div></div></td><td class=\"wf6kfd jshyxd nvoff wmpcfc\"><div class=\"qqgqae\"><div class=\"bneawe dwrkqd s3v9rd ap7wnd\">0%</div></div></td></tr><tr class=\"hwc\"><td class=\"wf6kfd jshyxd qqjnze scunje\"><div class=\"qqgqae\"><div class=\"bneawe s3v9rd ap7wnd\">cobalamin</div></div></td><td class=\"wf6kfd jshyxd nvoff wmpcfc\"><div class=\"qqgqae\"><div class=\"bneawe dwrkqd s3v9rd ap7wnd\">0%</div></div></td></tr><tr class=\"hwc\"><td class=\"wf6kfd qqjnze scunje\"><div class=\"qqgqae\"><div class=\"bneawe s3v9rd ap7wnd\">magnesium</div></div></td><td class=\"wf6kfd nvoff wmpcfc\"><div class=\"qqgqae\"><div class=\"bneawe dwrkqd s3v9rd ap7wnd\">1%</div></div></td></tr></tbody></table></div><div class=\"hwc\"></div><div class=\"duf-h\"><div class=\"fltxsc iiwm4b\" onclick=\"xp(this)\"><div class=\"lym8w\"><div class=\"aeqqub hwc\"></div><div class=\"ycu7eb hwc\"></div><div class=\"iyyaed hwx\"></div><div class=\"ecuhqe hwx\"></div></div></div></div></div></div></div><div><div class=\"zinbbc xpd o9g5cc uupgi\"><div class=\"jfp3ef\"><a href=\"/url?q=https://www.coca-colaproductfacts.com/en/products/sprite/original/12-oz/&amp;sa=u&amp;ved=2ahukewja5pgaqkbjahwj_p8khqm6cp0qfjahegqichab&amp;usg=aovvaw0pfv-niyzazpapvhqi8dii\"><div class=\"bneawe vvjwjb ap7wnd\">sprite, original - 12 oz | coca-cola product facts</div><div class=\"bneawe upmit ap7wnd\">https://www.coca-colaproductfacts.com &#8250; products &#8250; sprite &#8250; original</div></a></div><div class=\"njm3tb\"></div><div class=\"jfp3ef\"><div><div class=\"bneawe s3v9rd ap7wnd\"><div><div><div class=\"bneawe s3v9rd ap7wnd\">7.5 fl oz.  ... carbonated water, high fructose corn syrup, citric acid, natural flavors, sodium citrate, sodium benzoate (to protect taste).  this product includes ingredients sourced from genetically engineered (ge) crops, commonly known as gmos.\\n<span class=\"bneawe\"><a href=\"/url?q=https://www.coca-colaproductfacts.com/en/products/sprite-zero/original/12-oz/&amp;sa=u&amp;ved=2ahukewja5pgaqkbjahwj_p8khqm6cp0q0giwb3oecaoqag&amp;usg=aovvaw2adsqsiwcwdkdbriep7mhf\"><span class=\"xlloxe ap7wnd\">sprite zero</span></a></span> \\xb7 <span class=\"bneawe\"><a href=\"/url?q=https://www.coca-colaproductfacts.com/en/products/sprite/original/20-oz/&amp;sa=u&amp;ved=2ahukewja5pgaqkbjahwj_p8khqm6cp0q0giwb3oecaoqaw&amp;usg=aovvaw2wmpmejy0arurfm2dal7fq\"><span class=\"xlloxe ap7wnd\">20 fl oz</span></a></span> \\xb7 <span class=\"bneawe\"><a href=\"/url?q=https://www.coca-colaproductfacts.com/en/products/sprite/original/fountain-drink/&amp;sa=u&amp;ved=2ahukewja5pgaqkbjahwj_p8khqm6cp0q0giwb3oecaoqba&amp;usg=aovvaw006b2myp7xbcxc5k3wshmr\"><span class=\"xlloxe ap7wnd\">fountain</span></a></span> \\xb7 <span class=\"bneawe\"><a href=\"/url?q=https://www.coca-colaproductfacts.com/en/products/sprite/original/2-liter/&amp;sa=u&amp;ved=2ahukewja5pgaqkbjahwj_p8khqm6cp0q0giwb3oecaoqbq&amp;usg=aovvaw0zs9o6dr-vhncxiz9kczqd\"><span class=\"xlloxe ap7wnd\">sprite, original - 2 liter</span></a></span>\\n\\ncalories: <span class=\"r0bn4c rqmqod\">140</span>\\nincludes 38g added sugars: <span class=\"r0bn4c rqmqod\">76%</span>\\nserving size: <span class=\"r0bn4c rqmqod\">1 can</span>\\nsodium 65mg: <span class=\"r0bn4c rqmqod\">3%</span></div></div></div></div></div></div></div></div><div><div class=\"zinbbc xpd o9g5cc uupgi\"><div class=\"jfp3ef\"><a href=\"/url?q=https://www.fatsecret.com/calories-nutrition/sprite/sprite-(12-oz)&amp;sa=u&amp;ved=2ahukewja5pgaqkbjahwj_p8khqm6cp0qfjaiegqicrab&amp;usg=aovvaw3nie8bjfv8dj5chve94zpf\"><div class=\"bneawe vvjwjb ap7wnd\">calories in sprite sprite (12 oz) and nutrition facts - fatsecret</div><div class=\"bneawe upmit ap7wnd\">https://www.fatsecret.com &#8250; calories-nutrition &#8250; sprite &#8250; sprite-(12-oz)</div></a></div><div class=\"njm3tb\"></div><div class=\"jfp3ef\"><div><div class=\"bneawe s3v9rd ap7wnd\"><div><div><div class=\"bneawe s3v9rd ap7wnd\"><span class=\"r0bn4c rqmqod\">feb 16, 2011</span><span class=\"r0bn4c rqmqod\"> \\xb7 </span>there are 140 calories in a 1 can serving of sprite sprite (12 oz). get full nutrition facts for other sprite products and all your other favorite\\xa0...</div></div></div></div></div></div></div></div><div><div class=\"zinbbc xpd o9g5cc uupgi\"><div class=\"jfp3ef\"><a href=\"/url?q=https://www.nutritionix.com/i/sonic/sprite-medium/516d9a41e3afed032c7db0d3&amp;sa=u&amp;ved=2ahukewja5pgaqkbjahwj_p8khqm6cp0qfjajegqibhab&amp;usg=aovvaw1lcaty0d6xliawfys3_ncm\"><div class=\"bneawe vvjwjb ap7wnd\">calories in sprite, medium from sonic - nutritionix</div><div class=\"bneawe upmit ap7wnd\">https://www.nutritionix.com &#8250; sonic &#8250; sprite-medium</div></a></div><div class=\"njm3tb\"></div><div class=\"jfp3ef\"><div><div class=\"bneawe s3v9rd ap7wnd\"><div><div><div class=\"bneawe s3v9rd ap7wnd\">calories and other nutrition information for sprite, medium from sonic.</div></div></div></div></div></div></div></div><div><div class=\"zinbbc xpd o9g5cc uupgi\"><div class=\"jfp3ef\"><a href=\"/url?q=https://www.nutritionix.com/i/hilton-garden-inn/sprite-16-oz/c64025111a42ef9c5857dd5d&amp;sa=u&amp;ved=2ahukewja5pgaqkbjahwj_p8khqm6cp0qfjakegqicbab&amp;usg=aovvaw3wd6qfoognjwifomfhgplg\"><div class=\"bneawe vvjwjb ap7wnd\">calories in sprite (16 oz) from hilton garden inn - nutritionix</div><div class=\"bneawe upmit ap7wnd\">https://www.nutritionix.com &#8250; hilton-garden-inn &#8250; sprite-16-oz</div></a></div><div class=\"njm3tb\"></div><div class=\"jfp3ef\"><div><div class=\"bneawe s3v9rd ap7wnd\"><div><div><div class=\"bneawe s3v9rd ap7wnd\"><span class=\"r0bn4c rqmqod\">sep 6, 2018</span><span class=\"r0bn4c rqmqod\"> \\xb7 </span>calories and other nutrition information for sprite (16 oz) from hilton garden inn.</div></div></div></div></div></div></div></div><div><div class=\"zinbbc xpd o9g5cc uupgi\"><div class=\"jfp3ef\"><a href=\"/url?q=https://www.eatthismuch.com/food/nutrition/sprite-12-oz,182414/&amp;sa=u&amp;ved=2ahukewja5pgaqkbjahwj_p8khqm6cp0qfjalegqibxab&amp;usg=aovvaw2dgucdphadg2zycdtfvhcl\"><div class=\"bneawe vvjwjb ap7wnd\">sprite 12 oz nutrition facts - eat this much</div><div class=\"bneawe upmit ap7wnd\">https://www.eatthismuch.com &#8250; food &#8250; nutrition &#8250; sprite-12-oz,182414</div></a></div><div class=\"njm3tb\"></div><div class=\"jfp3ef\"><div><div class=\"bneawe s3v9rd ap7wnd\"><div><div><div class=\"bneawe s3v9rd ap7wnd\">calories, carbs, fat, protein, fiber, cholesterol, and more for sprite 12 oz (pollo campero). want to use it in a meal plan? head to the diet generator and enter the\\xa0...</div></div></div></div></div></div></div></div><div><div class=\"zinbbc xpd o9g5cc uupgi\"><div class=\"jfp3ef\"><a href=\"/url?q=https://www.myfooddiary.com/foods/7254932/sprite-cherry&amp;sa=u&amp;ved=2ahukewja5pgaqkbjahwj_p8khqm6cp0qfjamegqibbab&amp;usg=aovvaw0i514dirq5roem9tijuxg3\"><div class=\"bneawe vvjwjb ap7wnd\">nutrition facts for sprite sprite cherry. calories, carbs, fat, sugar ...</div><div class=\"bneawe upmit ap7wnd\">https://www.myfooddiary.com &#8250; foods &#8250; sprite-cherry</div></a></div><div class=\"njm3tb\"></div><div class=\"jfp3ef\"><div><div class=\"bneawe s3v9rd ap7wnd\"><div><div><div class=\"bneawe s3v9rd ap7wnd\">sprite sprite cherry - 120 calories, 0g of fat, and 33g of carbs per 12 fl oz. visit our site for complete nutrition facts for this item and 150000+ additional foods.</div></div></div></div></div></div></div></div><div><div class=\"zinbbc xpd o9g5cc uupgi\"><div class=\"jfp3ef\"><a href=\"/url?q=https://www.fitbit.com/foods/sprite%2b-%2bmedium/57659&amp;sa=u&amp;ved=2ahukewja5pgaqkbjahwj_p8khqm6cp0qfjanegqiaxab&amp;usg=aovvaw3v6mnom5oizwq8hdnpcabn\"><div class=\"bneawe vvjwjb ap7wnd\">calories in mcdonalds sprite - medium - nutritional information and ...</div><div class=\"bneawe upmit ap7wnd\">https://www.fitbit.com &#8250; foods &#8250; sprite+-+medium</div></a></div><div class=\"njm3tb\"></div><div class=\"jfp3ef\"><div><div class=\"bneawe s3v9rd ap7wnd\"><div><div><div class=\"bneawe s3v9rd ap7wnd\">comprehensive nutrition resource for mcdonalds sprite - medium. learn about the number of calories and nutritional and diet information for mcdonalds sprite\\xa0...</div></div></div></div></div></div></div></div><div><div class=\"zinbbc xpd o9g5cc uupgi\"><div class=\"jfp3ef\"><a href=\"/url?q=https://www.sparkpeople.com/calories-in.asp%3ffood%3ddiet%2bsprite&amp;sa=u&amp;ved=2ahukewja5pgaqkbjahwj_p8khqm6cp0qfjaoegqibrab&amp;usg=aovvaw0ckp92dw-xpcdblka6f_qu\"><div class=\"bneawe vvjwjb ap7wnd\">calories in diet sprite - calorie, fat, carb, fiber, &amp; protein info ...</div><div class=\"bneawe upmit ap7wnd\">https://www.sparkpeople.com &#8250; calories-in &#8250; food=diet+sprite</div></a></div><div class=\"njm3tb\"></div><div class=\"jfp3ef\"><div><div class=\"bneawe s3v9rd ap7wnd\"><div><div><div class=\"bneawe s3v9rd ap7wnd\">calories in diet sprite based on the calories, fat, protein, carbs and other nutrition information submitted for diet sprite.</div></div></div></div></div></div></div></div><div><div class=\"zinbbc xpd o9g5cc uupgi\"><div class=\"jfp3ef\"><a href=\"/url?q=https://www.mcdonalds.com/us/en-us/product/sprite-small.html&amp;sa=u&amp;ved=2ahukewja5pgaqkbjahwj_p8khqm6cp0qfjapegqiahab&amp;usg=aovvaw2sv2snbdcr5bffro8fnix9\"><div class=\"bneawe vvjwjb ap7wnd\">sprite\\xae | mcdonald\\'s</div><div class=\"bneawe upmit ap7wnd\">https://www.mcdonalds.com &#8250; en-us &#8250; product &#8250; sprite-small</div></a></div><div class=\"njm3tb\"></div><div class=\"jfp3ef\"><div><div class=\"bneawe s3v9rd ap7wnd\"><div><div><div class=\"bneawe s3v9rd ap7wnd\">sprite\\xae is the perfect cold and refreshing complement to your favorite mcdonald\\'s food items. grab one today! ... view nutrition summary. 35cal 35 calories.</div></div></div></div></div></div></div></div><div><div class=\"zinbbc xpd o9g5cc uupgi\"><div class=\"jfp3ef\"><a href=\"/url?q=https://nutritiondata.self.com/facts/foods-from-mcdonalds/6305/2&amp;sa=u&amp;ved=2ahukewja5pgaqkbjahwj_p8khqm6cp0qfjaqegqiarab&amp;usg=aovvaw3noambbn_a9iw9qlhfm370\"><div class=\"bneawe vvjwjb ap7wnd\">mcdonald\\'s beverage: sprite\\xae nutrition facts &amp; calories</div><div class=\"bneawe upmit ap7wnd\">https://nutritiondata.self.com &#8250; facts &#8250; foods-from-mcdonalds</div></a></div><div class=\"njm3tb\"></div><div class=\"jfp3ef\"><div><div class=\"bneawe s3v9rd ap7wnd\"><div><div><div class=\"bneawe s3v9rd ap7wnd\">nutrition facts and information for mcdonald\\'s beverage: sprite\\xae</div></div></div></div></div></div></div></div><div><div class=\"zinbbc xpd o9g5cc uupgi\"><div class=\"jfp3ef\"><span><div class=\"bneawe deivcb ap7wnd\"><span class=\"fcup0c rqmqod\">related searches</span></div></span></div><div class=\"njm3tb\"></div><div class=\"rvlsbd\"><a class=\"unhomf\" href=\"/search?ie=utf-8&amp;q=sprite+nutrition+facts+20+oz&amp;sa=x&amp;ved=2ahukewja5pgaqkbjahwj_p8khqm6cp0q1qj6bagaeae\"><div class=\"g1brt\"><div><span><div class=\"bneawe deivcb ap7wnd\">sprite nutrition facts 20 oz</div></span></div></div></a><div class=\"eod1kd g6yjwf\"><a href=\"/search?ie=utf-8&amp;q=sprite+nutrition+facts+20+oz\"><div class=\"bneawe madjqc ueec3 ap7wnd\">&gt;</div></a></div></div><div class=\"njm3tb\"></div><div class=\"rvlsbd\"><a class=\"unhomf\" href=\"/search?ie=utf-8&amp;q=sprite+ingredients&amp;sa=x&amp;ved=2ahukewja5pgaqkbjahwj_p8khqm6cp0q1qj6bagaeai\"><div class=\"g1brt\"><div><span><div class=\"bneawe deivcb ap7wnd\">sprite ingredients</div></span></div></div></a><div class=\"eod1kd g6yjwf\"><a href=\"/search?ie=utf-8&amp;q=sprite+ingredients\"><div class=\"bneawe madjqc ueec3 ap7wnd\">&gt;</div></a></div></div><div class=\"njm3tb\"></div><div class=\"rvlsbd\"><a class=\"unhomf\" href=\"/search?ie=utf-8&amp;q=sprite+sugar&amp;sa=x&amp;ved=2ahukewja5pgaqkbjahwj_p8khqm6cp0q1qj6bagaeam\"><div class=\"g1brt\"><div><span><div class=\"bneawe deivcb ap7wnd\">sprite sugar</div></span></div></div></a><div class=\"eod1kd g6yjwf\"><a href=\"/search?ie=utf-8&amp;q=sprite+sugar\"><div class=\"bneawe madjqc ueec3 ap7wnd\">&gt;</div></a></div></div><div class=\"njm3tb\"></div><div class=\"rvlsbd\"><a class=\"unhomf\" href=\"/search?ie=utf-8&amp;q=sprite+fat&amp;sa=x&amp;ved=2ahukewja5pgaqkbjahwj_p8khqm6cp0q1qj6bagaeaq\"><div class=\"g1brt\"><div><span><div class=\"bneawe deivcb ap7wnd\">sprite fat</div></span></div></div></a><div class=\"eod1kd g6yjwf\"><a href=\"/search?ie=utf-8&amp;q=sprite+fat\"><div class=\"bneawe madjqc ueec3 ap7wnd\">&gt;</div></a></div></div><div class=\"njm3tb\"></div><div class=\"rvlsbd\"><a class=\"unhomf\" href=\"/search?ie=utf-8&amp;q=coke+nutrition+facts&amp;sa=x&amp;ved=2ahukewja5pgaqkbjahwj_p8khqm6cp0q1qj6bagaeau\"><div class=\"g1brt\"><div><span><div class=\"bneawe deivcb ap7wnd\">coke nutrition facts</div></span></div></div></a><div class=\"eod1kd g6yjwf\"><a href=\"/search?ie=utf-8&amp;q=coke+nutrition+facts\"><div class=\"bneawe madjqc ueec3 ap7wnd\">&gt;</div></a></div></div><div class=\"njm3tb\"></div><div class=\"rvlsbd\"><a class=\"unhomf\" href=\"/search?ie=utf-8&amp;q=cup+of+sprite+calories&amp;sa=x&amp;ved=2ahukewja5pgaqkbjahwj_p8khqm6cp0q1qj6bagaeay\"><div class=\"g1brt\"><div><span><div class=\"bneawe deivcb ap7wnd\">cup of sprite calories</div></span></div></div></a><div class=\"eod1kd g6yjwf\"><a href=\"/search?ie=utf-8&amp;q=cup+of+sprite+calories\"><div class=\"bneawe madjqc ueec3 ap7wnd\">&gt;</div></a></div></div><div class=\"njm3tb\"></div><div class=\"rvlsbd\"><a class=\"unhomf\" href=\"/search?ie=utf-8&amp;q=sprite+nutrition+facts+sugar&amp;sa=x&amp;ved=2ahukewja5pgaqkbjahwj_p8khqm6cp0q1qj6bagaeac\"><div class=\"g1brt\"><div><span><div class=\"bneawe deivcb ap7wnd\">sprite nutrition facts sugar</div></span></div></div></a><div class=\"eod1kd g6yjwf\"><a href=\"/search?ie=utf-8&amp;q=sprite+nutrition+facts+sugar\"><div class=\"bneawe madjqc ueec3 ap7wnd\">&gt;</div></a></div></div><div class=\"njm3tb\"></div><div class=\"rvlsbd\"><a class=\"unhomf\" href=\"/search?ie=utf-8&amp;q=sprite+cranberry+nutrition+facts&amp;sa=x&amp;ved=2ahukewja5pgaqkbjahwj_p8khqm6cp0q1qj6bagaeag\"><div class=\"g1brt\"><div><span><div class=\"bneawe deivcb ap7wnd\">sprite cranberry nutrition facts</div></span></div></div></a><div class=\"eod1kd g6yjwf\"><a href=\"/search?ie=utf-8&amp;q=sprite+cranberry+nutrition+facts\"><div class=\"bneawe madjqc ueec3 ap7wnd\">&gt;</div></a></div></div></div></div><footer> <div>  <div class=\"zinbbc xpd o9g5cc uupgi bmp5tf\"><div class=\"nmymef muxgbd lylwlc\"><a class=\"nbde1b g5eflf\" href=\"/search?q=sprite+nutrition+facts&amp;ie=utf-8&amp;ei=_bsjxzr0lin9_wsj9krocq&amp;start=10&amp;sa=n\" aria-label=\"next page\">next &gt;</a></div></div> </div>   <div id=\"mcljob\"><div><a href=\"/url?q=https://accounts.google.com/servicelogin%3fcontinue%3dhttps://www.google.com/search%253fq%253dsprite%252bnutrition%252bfacts%26hl%3den&amp;sa=u&amp;ved=0ahukewja5pgaqkbjahwj_p8khqm6cp0qxs8cce4&amp;usg=aovvaw15cami6gncztestx6ckcdh\">sign in</a></div><div><a class=\"kstu4c\" href=\"https://www.google.com/preferences?hl=en&amp;fg=1&amp;sa=x&amp;ved=0ahukewja5pgaqkbjahwj_p8khqm6cp0q5fucce8\">settings</a><a class=\"kstu4c\" href=\"//www.google.com/intl/en_us/policies/privacy/?fg=1\">privacy</a><a class=\"kstu4c\" href=\"//www.google.com/intl/en_us/policies/terms/?fg=1\">terms</a></div></div>  </footer><script nonce=\"n+oipuwrvzzako6bp9h8xq==\">(function(){var hl=\\'en\\';(function(){var b=this||self,d=/^[\\\\w+/_-]+[=]{0,2}$/,e=null;var f=document.queryselector(\".l\"),g=document.queryselector(\"#sf\"),k=g.queryselector(\".sbc\"),l=g.queryselector(\"[type=text]\"),m=g.queryselector(\"[type=submit]\"),n=g.queryselector(\".sc\"),p=g.queryselector(\".x\"),q=l.value,r=[],t=-1,u=q,w,x,y;q||(p&&(p.style.display=\"none\"),z(!1));function z(a){if(k.classlist.contains(\"esbc\")){var c=k.classlist.contains(\"chsbc\"),h=k.classlist.contains(\"rtlsbc\");a&&(n.style.display=\"block\",c?(g.style.borderradius=\"20px 20px 0 0\",n.style.borderbottom=\"1px solid #dfe1e5\",m.style.borderradius=h?\"20px 0 0 0\":\"0 20px 0 0\"):k.style.borderradius=h?\"0 8px 0 0\":\"8px 0 0 0\");a||(n.style.display=\"none\",c?(g.style.borderradius=\"20px\",n.style.borderbottom=\"none\",m.style.borderradius=h?\"20px 0 0 20px\":\"0 20px 20px 0\"):k.style.borderradius=h?\"0 8px 8px 0\":\"8px 0 0 8px\")}}function a(){g.queryselector(\"[name=oq]\").value=u;g.queryselector(\"[name=aqs]\").value=\"heirloom-srp.\"+(0<=t?t:\"\")+\".\"+(0<r.length?\"0l\"+r.length:\"\")}\\nfunction c(){w=null;if(x){var a=\"/complete/search?client=heirloom-srp&hl=\"+hl+\"&json=t&callback=hs&q=\"+encodeuricomponent(x);\"undefined\"!==typeof ds&&ds&&(a+=\"&ds=\"+ds);var c=document.createelement(\"script\");c.src=a;if(null===e)a:{a=b.document;if((a=a.queryselector&&a.queryselector(\"script[nonce]\"))&&(a=a.nonce||a.getattribute(\"nonce\"))&&d.test(a)){e=a;break a}e=\"\"}(a=e)&&c.setattribute(\"nonce\",a);document.body.appendchild(c);x=null;w=settimeout(c,500)}}\\nfunction d(){for(;n.firstchild;)n.removechild(n.firstchild);r=[];t=-1;z(!1)}function e(){var a=n.queryselector(\".scs\");a&&(a.classname=\"\");0<=t?(a=n.childnodes[t],a.classname=\"scs\",q=a.textcontent):q=u;l.value=q}l.addeventlistener(\"focus\",function(){f&&(f.style.display=\"none\")},!1);l.addeventlistener(\"blur\",function(){d();f&&(f.style.display=\"\")},!1);l.addeventlistener(\"keyup\",function(a){q=l.value;y=!1;13==a.which?a():27==a.which?(d(),f&&(f.style.display=\"\"),q=u,l.value=q):40==a.which?(t++,t>=r.length&&(t=-1),e()):38==a.which?(t--,-1>t&&(t=r.length-1),e()):(a=q)?(p&&(p.style.display=\"\"),x=a,w||c(),u=a):(p&&(p.style.display=\"none\"),z(!1),d(),u=\"\",y=!0)},!1);m.addeventlistener(\"click\",a,!1);p.addeventlistener(\"click\",function(){l.value=\"\";p.style.display=\"none\";z(!1)},!1);k.addeventlistener(\"click\",function(){l.focus()},!1);window.hs=function(a){if(!y){d();0==a[1].length&&z(!1);for(var c=0;c<a[1].length;c++){var h=a[1][c][0],v=document.createelement(\"div\");v.innerhtml=h;v.addeventlistener(\"mousedown\",function(b){b.preventdefault();return!1},!1);h=h.replace(/<\\\\/?b>/g,\"\");v.addeventlistener(\"click\",function(b){return function(){t=b;a();e();d();g.submit()}}(c),!1);n.appendchild(v);z(!0);r.push(h)}}};}).call(this);})();(function(){function b(a){for(a=a.target||a.srcelement;a&&\"a\"!=a.nodename;)a=a.parentelement;a&&(a.href||\"\").match(/\\\\/search.*[?&]tbm=isch/)&&(a.href+=\"&biw=\"+document.documentelement.clientwidth,a.href+=\"&bih=\"+document.documentelement.clientheight)}document.addeventlistener(\"click\",b,!1);document.addeventlistener(\"touchstart\",b,!1);}).call(this);</script></div><!-- cctlcm 0 cctlcm --><textarea class=\"csi\" name=\"csi\" style=\"display:none\"></textarea><script nonce=\"n+oipuwrvzzako6bp9h8xq==\">(function(){var e=\\'_bsjxzr0lin9_wsj9krocq\\';var sn=\\'web\\';(function(){var q=function(a){var c=window,d=document;if(!a||\"none\"==a.style.display)return 0;if(d.defaultview&&d.defaultview.getcomputedstyle){var b=d.defaultview.getcomputedstyle(a);if(b&&(\"hidden\"==b.visibility||\"0px\"==b.height&&\"0px\"==b.width))return 0}if(!a.getboundingclientrect)return 1;var f=a.getboundingclientrect();a=f.left+c.pagexoffset;b=f.top+c.pageyoffset;var k=f.width;f=f.height;return 0>=f&&0>=k?0:0>b+f?2:b>=(c.innerheight||d.documentelement.clientheight)?3:0>a+k||a>=(c.innerwidth||d.documentelement.clientwidth)?4:1};var r=e,v=sn;function w(a,c,d){a=\"/gen_204?atyp=csi&s=\"+(v||\"web\")+\"&t=\"+a+(\"&lite=1&ei=\"+r+\"&conn=\"+(window.navigator&&window.navigator.connection?window.navigator.connection.type:-1)+c);c=\"&rt=\";for(var b in d)a+=c+b+\".\"+d[b],c=\",\";return a}function x(a){a={prt:a};window.wsrt&&(a.wsrt=window.wsrt);return a}function y(a){window.ping?window.ping(a):(new image).src=a}\\n(function(){for(var a=+new date-window.start,c=x(a),d=0,b=0,f=0,k=document.getelementsbytagname(\"img\"),m=\"&imn=\"+k.length+\"&biw=\"+window.innerwidth+\"&bih=\"+window.innerheight,a=function(h,z){h.onload=function(){b=+new date-window.start;z&&++n==f&&(d=b,t());h.onload=null}},t=function(){m+=\"&ima=\"+f;c.aft=d;y(w(\"aft\",m,c))},n=0,b=0,g=void 0;g=k[b++];){var l=1==q(g);l&&++f;var u=g.complete&&!g.getattribute(\"data-deferred\"),p=u&&number(g.getattribute(\"data-iml\"))||0;u&&p?(l&&++n,p&&(g=p-window.start,l&&(d=math.max(d,g)),b=math.max(b,g))):a(g,l)}d||(d=a);b||(b=d);n==f&&t();window.addeventlistener(\"load\",function(){window.settimeout(function(){c.ol=+new date-window.start;c.iml=b;var h=window.performance&&window.performance.timing;h&&(c.rqst=h.responseend-h.requeststart,c.rspt=h.responseend-h.responsestart);y(w(\"all\",m,c))},0)},!1)})();}).call(this);})();</script><script nonce=\"n+oipuwrvzzako6bp9h8xq==\">function _setimagessrc(e,c){function f(a){a.onerror=function(){a.style.display=\"none\"};a.src=c}for(var g=0,b=void 0;b=e[g++];){var d=document.getelementbyid(b);d?f(d):(window.google=window.google||{},google.iir=google.iir||{},google.iir[b]=c)}};(function(){var s=\\'data:image/jpeg;base64,/9j/4aaqskzjrgabaqaaaqabaad/2wceaakgbwghbgkibwgkcgkldrypdqwmdrsufrawib0iiiadhx8kkdqsjcyxjx8flt0tmtu3ojo6iys/rd84qzq5ojcbcgokdqwngg8pgjclhyu3nzc3nzc3nzc3nzc3nzc3nzc3nzc3nzc3nzc3nzc3nzc3nzc3nzc3nzc3nzc3nzc3n//aabeiahqasambeqaceqedeqh/xaabaaeaawebaqeaaaaaaaaaaaaabqyhawqcaf/eadgqaaedawicbgcgbwaaaaaaaaeaagmebregeiexeyjbuygrbxqjqmfxwtjskrhr8bymcokhorl/xaazaqeaawebaaaaaaaaaaaaaaaaawqfagh/xaaweqacagedaquhawuaaaaaaaaaaqideqqsitfryxgx8autqyghwdeiizmumkkr4f/aaawdaqaceqmrad8a3faeaqbaeaqbaeaqbaeaqbaun0maiutggpxwl8ldi15kdizdylqaoz3ifbwtpghpu14+zv1f0q3hhrnz6mtsxbumny67uhd0wwxmnm3nuyd5dztuxpstqet3t3oxy5ykxhvsyeaqbaeaqbazv6s6312qjoycc2mhttjm92cb4af7kvbnz2mj7unvxxh4ez9ejkr9tnlojimvhwi/qbzhidn+0rquf+i9lt2zrl8trlmbyqbaeaqbar9+ubltbjqtw3pansbpvvpifvsyulj7i5ir7fdqcjm6qj/rtmzi+arxkkcebne5jvbptmechtwer5pyjimatjto2txoekrx7wxsfycwg+seq6go2i4r3o3q1kxasn4t+64ccpa5v6elkoubdvisgpi9i6jagcaiagkhqiolu1/ffbtnpq8xg8nseanyba8sqwolult7dnvbtu2rphziwtfszzlkxdl1j+irtkm1ppq+aseagcewxhj98/ovyvk8jksfrevkwts1xjqxqs3tna2gsblh2ujg8dioq5j/ajvml7z7e0s6ebhzsfsxk8s6k2aaqbaeaqgrypqrdntvudwdg+gskayebesmj9+cnjp6gk3hl97khu0rjytktba2/wb1rjswvcpe48dhub8+cmno9jfz2/v/krqhobxkm6uxampakec1vsojacoqybkuxw48gq0f7pnyojfv/kmlo7ixbyeiw3j9rrcym9yq3t6vwyjdvebhdw7l49ntjuawv2z+7o4qh72l57jylwxwgcaiagmiztrtao1b0jdi41ega1rseumgax5rxwyztrnrstunhspzp2knokirjp6lppw4mmjgegsb9hjl8yydjpdhed671fntlthuxlev9lilqespckh6zw3ofpxsmdo2mnpfe7czrpcctj7xcj+b24xkzyo9lo1p+zc/dy8o7wdlzzldl5jeushtmuf8xwksmab9rir1npwi3cx4qsye2ewhvi99fdutwvyxwgcaiagmiijdqa8tmkjc1crnml7ywtt25igc8ef5kgdjgxtsx8xwpnzyk3ubzu09xe11lin/sf7qzjolr8skrrkui5jaym5swammfhc+v+s6nryra+nj19cfjjfsuslarlphsxn6jjgx7i97ggg4bjplrhl8e9qt1dk+rk8tcnfpimbnxsver7c2rkyxli7c1pbjmts8c/aesijjymiwi92aica7twfankiagcafazs2lggo7z0subiah/mceib+qz7hibmqeiu6xyxx+yiqqo6uyuloiyc8yfc2ygdug+ucpuqxcpyr/htli/c156imlfbedwwjzgxpz0jsgcccnw+qsvc2inqilqibv2+rpqvgweaqbaebntxih1rdqs0b0jcm8zmjn1wfd/kzmf6b5+vgihqt7r3zurbn8nbjsybehcfjpauzv1zccd2vi93mwj6qzqv3cxp1nurwfmjq1dnuiagcaidplnj02sllgwzddgj+ijh6qhbzyzlllopml3era1tj0rx8vgvlhycyis8jg4i+s0aqpr6qlhe9rox+jhvilyn8i7pnju47vui/q2aoqbaeaqgaqyaxe51mn2n1eo8ned/acz5s/wzjr/knn/fvzwq1ss6vx+k4ktn9xziyjahxhqwgytfzvbjg+9vjd8tjj+ycmhl9xfyt/vwfivoaorprhaeaqaodmrtc6lu9beqrmdzh8nhd9vmwfpmzjnhbnrvi+qyxhbe9rc97lxkisil1zyiax2xnc0gdxrs4gk+uyw0ntqduujwobnpvkeaexvlfzcpqe3nml07u70k+np0wayta2qgcaiagknq/s1vd6qostlw2nndnkjzm7xjspdt8o7uunlsm8ldv6sdslkuwgv656buptr5bvx1lwcc2jrdnzw4nj2dg5kl+naxbuu9nwovrmrwtxo+vdqn0s1thsvbjagd1uhydztghwk99w2usor2zdszu2stwidjntwnnqpmtvcwdcsb2sb3anic9vyclrr29s/otf/t5cnlstsll4qbaeaqbaeaqbaeaqh//2q\\\\x3d\\\\x3d\\';var i=[\\'dimg_1\\'];_setimagessrc(i,s);})();(function(){var e=\\'_bsjxzr0lin9_wsj9krocq\\';(function(){var a=e,b=window.performance&&window.performance.navigation;b&&2==b.type&&window.ping(\"/gen_204?ct=backbutton&ei=\"+a);}).call(this);})();(function(){(function(){google.csct={};google.csct.ps=\\'aovvaw1k3y57ar0z-uwceniaeihw\\\\x26ust\\\\x3d1562709373782259\\';})();})();(function(){(function(){google.csct.rd=true;})();})();(function(){window.xp=function(a){function e(h,f,g){return\"xp\"+(\"x\"==f?\"c\":\"x\")+g}for(var b=/\\\\bxp(x|c)(\\\\d?)\\\\b/;a;){var c=a.classname,d=c.match(b);if(d){a.classname=c.replace(b,e);if(\"c\"==d[1])for(a=a.getelementsbytagname(\"img\"),b=0;b<a.length;++b)if(c=a[b],d=c.getattribute(\"data-ll\"))c.src=d,c.removeattribute(\"data-ll\");break}a=a.parentelement}};})();google.drty&&google.drty();</script></body></html>'"
      ]
     },
     "execution_count": 24,
     "metadata": {},
     "output_type": "execute_result"
    }
   ],
   "source": [
    "test_string.lower()"
   ]
  },
  {
   "cell_type": "code",
   "execution_count": null,
   "metadata": {},
   "outputs": [],
   "source": []
  },
  {
   "cell_type": "code",
   "execution_count": null,
   "metadata": {},
   "outputs": [],
   "source": []
  },
  {
   "cell_type": "code",
   "execution_count": 50,
   "metadata": {},
   "outputs": [],
   "source": [
    "#SEARCH FOR MANUFACTURED PRODUCTS\n",
    "    #https://ndb.nal.usda.gov/ndb/search/list?maxsteps=6&format=&count=&max=25&sort=fd_s&fgcd=&manu=&lfacet=&qlookup=&ds=&qt=&qp=&qa=&qn=&q=&ing=&offset=75&order=asc"
   ]
  },
  {
   "cell_type": "markdown",
   "metadata": {},
   "source": [
    "IDEA => Split into manufactured and ingredient\n",
    "\n",
    "\n",
    "for maufactures products JUST TAKE THE FIRST NAME and access that link + TAKE THE INGREDIENTS!\n",
    "\n",
    "for natural, use the google nutrient search"
   ]
  },
  {
   "cell_type": "code",
   "execution_count": null,
   "metadata": {},
   "outputs": [],
   "source": [
    "#manufactured data acquisition prototype\n",
    "#product name: coca cola"
   ]
  },
  {
   "cell_type": "markdown",
   "metadata": {},
   "source": [
    "### Prototyping: Obtaining Data for a Manufactured Product e.g. Coca Cola"
   ]
  },
  {
   "cell_type": "code",
   "execution_count": 33,
   "metadata": {},
   "outputs": [],
   "source": [
    "#step_1: call the seach \n",
    "search_term = \"Coca Cola bottle\"\n",
    "string = \"https://ndb.nal.usda.gov/ndb/search/list?SYNCHRONIZER_TOKEN=4be436b4-40f9-441e-b228-a9de73c5c8a2&SYNCHRONIZER_URI=%2Fndb%2Fsearch%2Flist&qt=&qlookup=\" + search_term + \"&ds=&manu=\"\n",
    "results_page = str(simple_get(string))"
   ]
  },
  {
   "cell_type": "code",
   "execution_count": 34,
   "metadata": {},
   "outputs": [],
   "source": [
    "#step 2: extract the first search result\n",
    "food_item_regex = re.compile(\"<a href=\\\"\\/ndb\\/foods\\/show[\\n\\s\\d\\w\\D\\W]+?<\\/a>\")\n",
    "extracted_element = a = re.search(food_item_regex, results_page)"
   ]
  },
  {
   "cell_type": "code",
   "execution_count": 35,
   "metadata": {},
   "outputs": [
    {
     "data": {
      "text/plain": [
       "'<a href=\"/ndb/foods/show/45130947?fgcd=&amp;manu=&amp;format=&amp;count=&amp;max=25&amp;offset=&amp;sort=default&amp;order=asc&amp;qlookup=Coca+Cola+bottle&amp;ds=&amp;qt=&amp;qp=&amp;qa=&amp;qn=&amp;q=&amp;ing=\" title=\"Click to view reports for this food\">\\\\n\\\\t\\\\t    45130947 </a>'"
      ]
     },
     "execution_count": 35,
     "metadata": {},
     "output_type": "execute_result"
    }
   ],
   "source": [
    "extracted_element.group(0)"
   ]
  },
  {
   "cell_type": "code",
   "execution_count": 40,
   "metadata": {},
   "outputs": [],
   "source": [
    "#step 4: Produce the link\n",
    "linkregex = re.compile(\"\\\".*?\\\"\")\n",
    "partial_link = re.search(linkregex, extracted_element.group(0)).group(0)[1:-1]\n",
    "full_link = \"https://ndb.nal.usda.gov\" + partial_link"
   ]
  },
  {
   "cell_type": "code",
   "execution_count": 56,
   "metadata": {},
   "outputs": [],
   "source": [
    "#step 5: get request to full link with items on it\n",
    "item_nutrition_facts = simple_get(full_link).lower()"
   ]
  },
  {
   "cell_type": "code",
   "execution_count": 57,
   "metadata": {},
   "outputs": [],
   "source": [
    "#step 6: get item nutrition facts e.g. Vitamin C\n",
    "vitamin_c_regex = re.compile(\"vitamin c.*[0-9]\")"
   ]
  },
  {
   "cell_type": "code",
   "execution_count": 58,
   "metadata": {},
   "outputs": [
    {
     "data": {
      "text/plain": [
       "b'<!doctype html>\\n<!--[if lt ie 7 ]> <html lang=\"en\" class=\"no-js ie6\"> <![endif]-->\\n<!--[if ie 7 ]>    <html lang=\"en\" class=\"no-js ie7\"> <![endif]-->\\n<!--[if ie 8 ]>    <html lang=\"en\" class=\"no-js ie8\"> <![endif]-->\\n<!--[if ie 9 ]>    <html lang=\"en\" class=\"no-js ie9\"> <![endif]-->\\n<!--[if (gt ie 9)|!(ie)]><!-->\\n <html lang=\"en\" class=\"no-js\"><!--<![endif]-->\\n \\n    <head>\\n     <meta name=\"description\" content=\"united states department of agriculture food composition databases\">\\n      <meta name=\"mobileoptimized\" content=\"width\">\\n    <meta name=\"handheldfriendly\" content=\"true\">\\n     <meta name=\"viewport\" content=\"width=device-width, initial-scale=1\">\\n        <title>food composition databases show foods -- coca-cola bottle, 20 fl oz, prepared, gtin: 00049000000443</title>\\n        <link rel=\"shortcut icon\" href=\"/ndb/assets/favicon-586b9f862ff9b9e158afa1e50eb9a8e3.ico\" type=\"image/vnd.microsoft.icon\" />\\n    <script src=\"/ndb/assets/application-be3f7a9c00527159ebeff298ffd6ffc8.js\" type=\"text/javascript\" ></script>\\n<link rel=\"stylesheet\" href=\"/ndb/assets/main-2558742e2f3d5c57cdc2bc6f3d20e080.css\"/>\\n        \\n\\t\\t\\n \\n    <script async type=\"text/javascript\" id=\"_fed_an_ua_tag\" src=\" https://dap.digitalgov.gov/universal-federated-analytics-min.js?agency=usda&subagency=ars-nal\"></script>\\n <!-- global site tag (gtag.js) - google analytics -->\\n<script async src=\"https://www.googletagmanager.com/gtag/js?id=ua-36442725-1\"></script>\\n<script>\\n  window.datalayer = window.datalayer || [];\\n  function gtag(){datalayer.push(arguments)};\\n  gtag(\\'js\\', new date());\\n \\n  gtag(\\'config\\', \\'ua-36442725-1\\');\\n</script>\\n      \\n          \\n                <meta http-equiv=\"content-type\" content=\"text/html; charset=utf-8\"/>\\n        <meta name=\"layout\" content=\"main\"/>\\n        \\n       \\n\\n\\t<script src=\"/ndb/assets/custom-3ec8248c95c3dd1a837e6a5ffd4ce04b.js\" type=\"text/javascript\" ></script>\\n    \\n    </head>\\n<body>\\n\\n<div class=\"header-wrapper clearfix\">\\n\\t\\t\\t<div class=\"header-content header-background\">\\n                <div class=\"site-info col-sm-12 col-xs-12\">\\n                <a href=\"http://www.usda.gov/\" target=\"_blank\" id=\"anch_0\">\\n                <img src=\"/ndb/assets/usda-logo-dda9ff0850b624759c06dd21914b0f67.jpg\" style=\"float:left;padding:5px;\" height=\"51\" width=\"64\" title=\"usda logo\"/>\\n                </a>\\n                <span class=\"sitename-usda\">united states department of agriculture\\n                <br>agricultural research service</span>\\n                <br><span class=\"sitename-nal\"> \\n               \\n                \\t usda branded food products database\\n                \\n                 </span>\\n                 </div>\\n            </div>\\n\\t</div>\\n<div class=\"bodywrapper\">\\n\\r\\n <div class=\"navbar navbar-default\" role=\"navigation\">\\r\\n<div class=\"container-fluid\"> \\r\\n<div class=\"navbar-header\" >\\r\\n                    <button type=\"button\" class=\"navbar-toggle\" data-toggle=\"collapse\" data-target=\".navbar-responsive-collapse\">\\r\\n                        <span class=\"icon-bar\"></span>\\r\\n                        <span class=\"icon-bar\"></span>\\r\\n                    </button>\\r\\n                </div>\\r\\n<div class=\"navbar-collapse collapse navbar-responsive-collapse\" >\\r\\n<ul  class=\"nav navbar-nav\" >\\r\\n   \\r\\n       <li class=\"first leaf\" role=\"presentation\">\\r\\n   \\r\\n    <a href=\"/ndb\" title=\"go the ndl home page\">home</a>\\r\\n  </li>\\r\\n  \\r\\n  \\t<li role=\"presentation\" class=\"active\">\\r\\n  \\r\\n  \\t\\t<a href=\"/ndb/search/list\" name=\"menu-advanced\" title=\"browse the foods list\">food search</a>\\r\\n  \\t</li>\\r\\n  \\t\\r\\n  \\t\\t<li role=\"presentation\">\\r\\n  \\t\\r\\n  \\t\\t<a href=\"/ndb/nutrients/index\" name=\"menu-advanced\" title=\"create a nutrients list report\">nutrient search</a>\\r\\n  \\t</li>\\r\\n  \\t\\r\\n  \\t\\t<li role=\"presentation\">\\r\\n  \\t\\r\\n  \\t\\r\\n  \\t\\t<a href=\"/ndb/beef/show\" title=\"use the ground beef calculator\">ground beef calculator</a>\\r\\n  \\t</li>\\r\\n\\t  <li class=\"dropdown\"><a href=\"#\" class=\"dropdown-toggle\"  data-target=\"#\" data-toggle=\"dropdown\" target=\"_blank\" role=\"button\" aria-haspopup=\"true\" title=\"select documentation and help items\" aria-expanded=\"false\">documentation and help<span class=\"caret\"></span></a>\\r\\n\\t\\t<ul class=\"dropdown-menu\">\\r\\n  \\t \\t<li  class=\"first leaf\" >\\r\\n    \\t<a href=\"/ndb/doc/index\" title=\"how to use the ndb api\">food composition databases api</a>\\r\\n    \\t</li>\\r\\n  \\r\\n    <li  class=\"leaf\" >\\r\\n    \\t<a href=\"https://www.ars.usda.gov/arsuserfiles/80400525/data/sr-legacy/sr-legacy_doc.pdf\" title=\"view and download release documentation\" target=\"_help\">sr1 documentation</a>\\r\\n    </li>\\r\\n    <li>\\r\\n    \\t<a href=\"/ndb/docs/bfpdb_doc.pdf\" title=\"view and download branded food products documentation\" target=\"_help\">usda branded food products documentation</a>\\r\\n    </li>\\r\\n    \\r\\n  <li class=\"first leaf\" >\\r\\n    \\t<a href=\"/ndb/help/index\" title=\"read help on how to use the website\">food composition databases help</a>\\r\\n    </li>\\r\\n    </ul>\\r\\n    </li>\\r\\n       <li class=\"dropdown\"><a href=\"#\" class=\"dropdown-toggle\" data-target=\"#\" data-toggle=\"dropdown\" target=\"_blank\" role=\"button\" aria-haspopup=\"true\" title=\"select downloadable files\" aria-expanded=\"false\">downloads<span class=\"caret\"></span></a>\\r\\n\\t<ul class=\"dropdown-menu\">\\r\\n\\t\\t<li >\\r\\n\\t\\t<a href=\"https://www.ars.usda.gov/arsuserfiles/80400525/data/bfpdb/bfpd_db_07132018.zip\" title=\"download bfpd access files\" tabindex=\"-1\">bfpd access database files</a>\\r\\n\\t\\t</li>\\r\\n\\t\\t<li >\\r\\n\\t\\t<a href=\"https://www.ars.usda.gov/arsuserfiles/80400525/data/bfpdb/bfpd_csv_07132018.zip\" title=\"csv files\">bfpd ascii files</a>\\r\\n\\t\\t</li>\\r\\n\\t</li>\\r\\n\\t\\r\\n  \\t <li  class=\"leaf\" >\\r\\n\\t\\t<a href=\"https://www.ars.usda.gov/arsuserfiles/80400525/data/sr-legacy/sr-leg_db.zip\" title=\"download sr legacy access files\">sr legacy access database files</a>\\r\\n    \\t</li>\\r\\n\\t<li  class=\"leaf\" >\\r\\n\\t\\t<a href=\"https://www.ars.usda.gov/arsuserfiles/80400525/data/sr-legacy/sr-leg_asc.zip\" title=\"download sr csv files\">sr legacy ascii files</a>\\r\\n    \\t</li>\\r\\n\\t </ul>\\r\\n\\t\\t\\r\\n       \\r\\n    </li>\\r\\n     \\t<li>\\r\\n  \\t\\t<a href=\"http://www.ars.usda.gov/main/docs.htm?docid=4445\" title=\"click to contact us\">contact us</a>\\r\\n  \\t</li>\\r\\n       \\r\\n</ul>\\r\\n</div>\\r\\n</div>\\r\\n</div>\\r\\n\\r\\n   \\n      \\n        \\n  <div class=\"wbox\">\\n   <div class=\"container\">\\n  <div id=\"view-name\" style=\"width:auto\">\\n      \\n      <a title=\"view food data central record\" href=\"https://fdc.nal.usda.gov/fdc-app.html#/?query=gtinupc:00049000000443\" style=\"background-color:#0071bc;color:white;\" class=\" btn btn-primary btn-large\">try fooddata central</a>\\n       \\n      \\n     full report (all nutrients):&nbsp;\\n     \\n        45130947, coca-cola bottle, 20 fl oz, prepared, gtin: 00049000000443\\n  \\n     \\n       </div>\\n       \\n       \\t\\n            <!-- put up links to homepage of source of a branded food  -->\\n           \\n        \\t\\n\\t\\t    <div class=\"row\" style=\"padding-left:10px;\">\\n\\t\\t    <div class=\"col-md-12 prop\">\\n       \\t\\t\\t\\n   \\t\\t\\t\\t\\tbased on the gs1 global data synchronization network,<a href=\"http://www.1worldsync.com/customer-page/usda/\" target=\"_blank\"> powered by 1worldsync</a>\\n   \\t\\t\\t\\t\\t\\n   \\t\\t\\t\\t</div>\\n   \\t\\t\\t\\t</div>\\n   \\t\\t\\t\\n\\t\\t\\n   \\t\\t\\n       <div class=\"menubutton\" >\\n                 \\n\\t\\t\\t\\n                    \\n                 \\n                 \\n                        \\t<a href=\"/ndb/search/list?fgcd=&amp;manu=&amp;lfacet=&amp;count=&amp;max=&amp;sort=&amp;qlookup=&amp;offset=&amp;format=full&amp;new=&amp;measureby=&amp;ds=&amp;order=&amp;qt=&amp;qp=&amp;qa=&amp;qn=&amp;q=&amp;ing=\" name=\"search\" title=\"return to results list\"><span class=\"glyphicon glyphicon-backward\"></span> return to search results</a>\\n\\t\\n       \\n\\n                 \\n                                        <span class=\"glyphicon glyphicon-download-alt\"></span> <a href=\"/ndb/foods/show/45130947?format=full&amp;reportfmt=csv&amp;qv=1\" title=\"download as csv\">download (csv)</a>\\n                                                 \\n                                        \\n                                \\n                                <span class=\"glyphicon glyphicon-print\"></span> <a href=\"/ndb/foods/show/45130947?format=full&amp;reportfmt=pdf&amp;pdfqvs=%7bqv%3d1%7d&amp;ds=\" title=\"download as pdf\">print (pdf)</a>\\n                        \\n\\t</div>\\n         \\n            \\n            \\n            \\n\\t     \\n                       \\t\\t<div class=\"row\"  style=\"padding-left:10px;\">\\n                       \\t\\t<div class=\"col-md-12 prop\">\\n\\t                            <span class=\"name\">manufacturer</span>\\n\\t                            <span class=\"value\"> <a href=\"/ndb/search/list?fgcd=&amp;manu=the+coca-cola+company-0049000000016&amp;lfacet=&amp;count=&amp;max=&amp;sort=&amp;offset=0&amp;format=full&amp;new=1\" name=\"search\" title=\"display all foods from this manufacturer\">the coca-cola company-0049000000016&nbsp;<span class=\"glyphicon glyphicon-search\"></span></a></span>\\n                        \\t</div>\\n                        \\t</div>\\n                        \\n                \\t <div class=\"alert alert-info\" role=\"alert\">\\n\\t                    \\n\\t                    \\tinformation provided by food manufacturers is label data.  manufacturers are responsible for descriptions, nutrient data and ingredient information.  usda calculated values per 100 ml from values per serving.\\n\\t                    \\n\\t                 </div>\\n                </div>\\n                        <div id=\"helpdiv\"></div>\\n               \\n               <!-- nutrient data table -->\\n               <form action=\"/ndb/foods/show/45130947\" method=\"get\" >\\n                                \\n               <input type=\"hidden\" name=\"man\" value=\"\" id=\"man\" />\\n               <input type=\"hidden\" name=\"lfacet\" value=\"\" id=\"lfacet\" />\\n               <input type=\"hidden\" name=\"count\" value=\"\" id=\"count\" />\\n               <input type=\"hidden\" name=\"max\" value=\"\" id=\"max\" />\\n               <input type=\"hidden\" name=\"qlookup\" value=\"\" id=\"qlookup\" />\\n               <input type=\"hidden\" name=\"offset\" value=\"\" id=\"offset\" />\\n               <input type=\"hidden\" name=\"sort\" value=\"\" id=\"sort\" />\\n               <input type=\"hidden\" name=\"format\" value=\"full\" id=\"format\" />\\n               <input type=\"hidden\" name=\"reportfmt\" value=\"other\" id=\"reportfmt\" />\\n               <input type=\"hidden\" name=\"rptfrm\" value=\"\" id=\"rptfrm\" />\\n               <input type=\"hidden\" name=\"ndbno\" value=\"\" id=\"ndbno\" />\\n               <input type=\"hidden\" name=\"nutrient1\" value=\"\" id=\"nutrient1\" />\\n               <input type=\"hidden\" name=\"nutrient2\" value=\"\" id=\"nutrient2\" />\\n               <input type=\"hidden\" name=\"nutrient3\" value=\"\" id=\"nutrient3\" />\\n               <input type=\"hidden\" name=\"subset\" value=\"\" id=\"subset\" />\\n               <input type=\"hidden\" name=\"totcount\" value=\"\" id=\"totcount\" />\\n               <input type=\"hidden\" name=\"measureby\" value=\"\" id=\"measureby\" />\\n               <div class=\"nutlist\">\\n                       \\n                       \\t<div class=\"container\">\\n<section>\\n<table id=\"nutdata\" class=\"display wrap\" cellspacing=\"0\" width=\"100%\">\\n<thead>\\n<tr>\\n\\t<th>heading</th>\\n   <th class=\"column-style emptylabel\" title=\"nutrient description\">nutrient</th>\\n\\t<th class=\"column-style unitlabel\" title=\"unit\">unit</th>\\n      \\n  <th class=\"column-style\" title=\"value for 1 bottle\">\\n  \\t<input type=\"text\" name=\"q115562\" title=\"enter a value for 1 bottle\" style=\"font-size:.85em;width:45px;\" onchange=\"document.forms[0].submit();\" class=\"qv\" maxlength=\"5\" value=\"1\" id=\"q115562\" />\\n  \\t<br/>\\n  \\tbottle 600&nbsp;ml\\n  \\t</th>\\n\\n\\n       <th class=\"column-style\" title=\"value for 100 ml\"><input type=\"text\" name=\"qv\" class=\"qv\" onchange=\"submit();\" style=\"color:#000;width:45px;font-size:.85em;text-align:right;border-style:inset;height:20px\" maxlength=\"5\" value=\"1\" id=\"qv\" /><br/>value per 100&nbsp;ml</th>\\n</tr>\\n</thead>\\n<tbody>\\n\\n\\t\\n\\t\\t<tr>\\n\\t\\t\\n\\t\\t\\t<td class=\"cspan\" >proximates</td>\\n\\t\\t\\t<td style=\"text-align:left\">energy\\n\\t\\t\\t\\n\\t\\t\\t</td>\\n\\t\\t\\t<td>kcal</td>\\n\\t\\t\\t\\n\\t\\t\\t\\t<td style=\"text-align:right;\">234</td>\\n\\t\\t\\t\\n\\t\\t<td style=\"text-align:right;\">39</td>\\n\\t\\t\\n\\t</tr>\\n\\t \\n\\t\\t\\t<td class=\"cspan\" >proximates</td>\\n\\t\\t\\t<td style=\"text-align:left\">protein\\n\\t\\t\\t\\n\\t\\t\\t</td>\\n\\t\\t\\t<td>g</td>\\n\\t\\t\\t\\n\\t\\t\\t\\t<td style=\"text-align:right;\">0.00</td>\\n\\t\\t\\t\\n\\t\\t<td style=\"text-align:right;\">0.00</td>\\n\\t\\t\\n\\t</tr>\\n\\t \\n\\t\\t\\t<td class=\"cspan\" >proximates</td>\\n\\t\\t\\t<td style=\"text-align:left\">total lipid (fat)\\n\\t\\t\\t\\n\\t\\t\\t</td>\\n\\t\\t\\t<td>g</td>\\n\\t\\t\\t\\n\\t\\t\\t\\t<td style=\"text-align:right;\">0.00</td>\\n\\t\\t\\t\\n\\t\\t<td style=\"text-align:right;\">0.00</td>\\n\\t\\t\\n\\t</tr>\\n\\t \\n\\t\\t\\t<td class=\"cspan\" >proximates</td>\\n\\t\\t\\t<td style=\"text-align:left\">carbohydrate, by difference\\n\\t\\t\\t\\n\\t\\t\\t</td>\\n\\t\\t\\t<td>g</td>\\n\\t\\t\\t\\n\\t\\t\\t\\t<td style=\"text-align:right;\">64.98</td>\\n\\t\\t\\t\\n\\t\\t<td style=\"text-align:right;\">10.83</td>\\n\\t\\t\\n\\t</tr>\\n\\t \\n\\t\\t\\t<td class=\"cspan\" >proximates</td>\\n\\t\\t\\t<td style=\"text-align:left\">fiber, total dietary\\n\\t\\t\\t\\n\\t\\t\\t</td>\\n\\t\\t\\t<td>g</td>\\n\\t\\t\\t\\n\\t\\t\\t\\t<td style=\"text-align:right;\">0.0</td>\\n\\t\\t\\t\\n\\t\\t<td style=\"text-align:right;\">0.0</td>\\n\\t\\t\\n\\t</tr>\\n\\t \\n\\t\\t\\t<td class=\"cspan\" >proximates</td>\\n\\t\\t\\t<td style=\"text-align:left\">sugars, total\\n\\t\\t\\t\\n\\t\\t\\t</td>\\n\\t\\t\\t<td>g</td>\\n\\t\\t\\t\\n\\t\\t\\t\\t<td style=\"text-align:right;\">64.98</td>\\n\\t\\t\\t\\n\\t\\t<td style=\"text-align:right;\">10.83</td>\\n\\t\\t\\n\\t</tr>\\n\\t \\n \\n\\n\\t\\n\\t\\t<tr>\\n\\t\\t\\n\\t\\t\\t<td class=\"cspan\" >minerals</td>\\n\\t\\t\\t<td style=\"text-align:left\">calcium, ca\\n\\t\\t\\t\\n\\t\\t\\t</td>\\n\\t\\t\\t<td>mg</td>\\n\\t\\t\\t\\n\\t\\t\\t\\t<td style=\"text-align:right;\">0</td>\\n\\t\\t\\t\\n\\t\\t<td style=\"text-align:right;\">0</td>\\n\\t\\t\\n\\t</tr>\\n\\t \\n\\t\\t\\t<td class=\"cspan\" >minerals</td>\\n\\t\\t\\t<td style=\"text-align:left\">iron, fe\\n\\t\\t\\t\\n\\t\\t\\t</td>\\n\\t\\t\\t<td>mg</td>\\n\\t\\t\\t\\n\\t\\t\\t\\t<td style=\"text-align:right;\">0.00</td>\\n\\t\\t\\t\\n\\t\\t<td style=\"text-align:right;\">0.00</td>\\n\\t\\t\\n\\t</tr>\\n\\t \\n\\t\\t\\t<td class=\"cspan\" >minerals</td>\\n\\t\\t\\t<td style=\"text-align:left\">phosphorus, p\\n\\t\\t\\t\\n\\t\\t\\t</td>\\n\\t\\t\\t<td>mg</td>\\n\\t\\t\\t\\n\\t\\t\\t\\t<td style=\"text-align:right;\">108</td>\\n\\t\\t\\t\\n\\t\\t<td style=\"text-align:right;\">18</td>\\n\\t\\t\\n\\t</tr>\\n\\t \\n\\t\\t\\t<td class=\"cspan\" >minerals</td>\\n\\t\\t\\t<td style=\"text-align:left\">sodium, na\\n\\t\\t\\t\\n\\t\\t\\t</td>\\n\\t\\t\\t<td>mg</td>\\n\\t\\t\\t\\n\\t\\t\\t\\t<td style=\"text-align:right;\">72</td>\\n\\t\\t\\t\\n\\t\\t<td style=\"text-align:right;\">12</td>\\n\\t\\t\\n\\t</tr>\\n\\t \\n \\n\\n\\t\\n\\t\\t<tr>\\n\\t\\t\\n\\t\\t\\t<td class=\"cspan\" >vitamins</td>\\n\\t\\t\\t<td style=\"text-align:left\">vitamin c, total ascorbic acid\\n\\t\\t\\t\\n\\t\\t\\t</td>\\n\\t\\t\\t<td>mg</td>\\n\\t\\t\\t\\n\\t\\t\\t\\t<td style=\"text-align:right;\">0.0</td>\\n\\t\\t\\t\\n\\t\\t<td style=\"text-align:right;\">0.0</td>\\n\\t\\t\\n\\t</tr>\\n\\t \\n\\t\\t\\t<td class=\"cspan\" >vitamins</td>\\n\\t\\t\\t<td style=\"text-align:left\">vitamin a, iu\\n\\t\\t\\t\\n\\t\\t\\t</td>\\n\\t\\t\\t<td>iu</td>\\n\\t\\t\\t\\n\\t\\t\\t\\t<td style=\"text-align:right;\">0</td>\\n\\t\\t\\t\\n\\t\\t<td style=\"text-align:right;\">0</td>\\n\\t\\t\\n\\t</tr>\\n\\t \\n \\n\\n\\t\\n\\t\\t<tr>\\n\\t\\t\\n\\t\\t\\t<td class=\"cspan\" >lipids</td>\\n\\t\\t\\t<td style=\"text-align:left\">fatty acids, total saturated\\n\\t\\t\\t\\n\\t\\t\\t</td>\\n\\t\\t\\t<td>g</td>\\n\\t\\t\\t\\n\\t\\t\\t\\t<td style=\"text-align:right;\">0.000</td>\\n\\t\\t\\t\\n\\t\\t<td style=\"text-align:right;\">0.000</td>\\n\\t\\t\\n\\t</tr>\\n\\t \\n\\t\\t\\t<td class=\"cspan\" >lipids</td>\\n\\t\\t\\t<td style=\"text-align:left\">fatty acids, total trans\\n\\t\\t\\t\\n\\t\\t\\t</td>\\n\\t\\t\\t<td>g</td>\\n\\t\\t\\t\\n\\t\\t\\t\\t<td style=\"text-align:right;\">0.000</td>\\n\\t\\t\\t\\n\\t\\t<td style=\"text-align:right;\">0.000</td>\\n\\t\\t\\n\\t</tr>\\n\\t \\n\\t\\t\\t<td class=\"cspan\" >lipids</td>\\n\\t\\t\\t<td style=\"text-align:left\">cholesterol\\n\\t\\t\\t\\n\\t\\t\\t</td>\\n\\t\\t\\t<td>mg</td>\\n\\t\\t\\t\\n\\t\\t\\t\\t<td style=\"text-align:right;\">0</td>\\n\\t\\t\\t\\n\\t\\t<td style=\"text-align:right;\">0</td>\\n\\t\\t\\n\\t</tr>\\n\\t \\n \\n\\n\\t\\n\\n\\t\\n\\t\\t<tr>\\n\\t\\t\\n\\t\\t\\t<td class=\"cspan\" >other</td>\\n\\t\\t\\t<td style=\"text-align:left\">caffeine\\n\\t\\t\\t\\n\\t\\t\\t</td>\\n\\t\\t\\t<td>mg</td>\\n\\t\\t\\t\\n\\t\\t\\t\\t<td style=\"text-align:right;\">60</td>\\n\\t\\t\\t\\n\\t\\t<td style=\"text-align:right;\">10</td>\\n\\t\\t\\n\\t</tr>\\n\\t \\n \\n\\n</tbody>\\n</table>\\n</section>\\n</div>                \\n\\n                       \\n                </div>\\n               </form>\\n               \\n\\t\\t   <div class=\"container\">\\n                    <div class=\"row\">\\n        \\t\\t\\n         \\t\\t\\n                \\n                \\n                 \\n                    \\n                    <div class=\"container\">\\n                    <div class=\"row\">\\n                    <div class=\"col-md-12\"><strong>ingredients: </strong>\\n                    \\tingredients: carbonated water, high fructose corn syrup, caramel color, phosphoric acid, natural flavors, caffeine.\\n                    \\t\\n                    \\t\\t<span style=\"font-style:italic\"  >date available</span>: 07/05/2018&nbsp;&nbsp;\\n                    \\t\\n                    \\t<span style=\"font-style:italic\">date last updated by company</span>: 07/05/2018\\n                    \\t\\n                    \\t</div>\\n                    \\t</div>\\n                    \\t</div>\\n                    \\n\\t    </div>\\n        \\n       <script>\\n       $(function() {\\n\\t\\t\\t$( \"#helpdiv\" ).dialog({\\n\\t\\t\\t\\twidth:500,\\n\\t\\t\\t\\tresizable:true,\\n\\t\\t\\t\\ttitle: \"modifying household measures\",\\n\\t\\t\\t\\tautoopen: false,\\n\\t\\t\\t});\\n\\t\\t\\t$( \"#measures\" ).click(function() {\\n\\t\\t\\t$( \"#helpdiv\" ).dialog( \"open\" );\\n\\t\\t\\t});\\n\\t\\t\\t});\\n       </script>\\n    \\n </div>\\n        <footer>\\n         <small>  \\n         <div  class=\"region region-footer\" >\\n        <section id=\"block-block-1\"  class=\"block block-block footer clearfix\">\\n        \\n        \\tusda branded food products database<br/>release july, 2018\\n        \\t\\n        \\t\\n\\t\\t<br/>\\n\\t\\t\\t <a href=\"http://www.nal.usda.gov\">software developed by the national agricultural library</a> v.3.9.5.3_2019-06-13 \\n\\t\\t <br/>\\n\\t\\t <a href=\"http://www.nal.usda.gov\">nal home</a> | <a href=\"http://www.usda.gov\" target=\"_blank\">usda.gov</a> | <a href=\"http://www.ars.usda.gov\" target=\"_blank\">agricultural research service</a> | <a href=\"http://www.usda.gov/wps/portal/usda/usdahome?navid=plain_writing\">plain language</a> | <a href=\"http://www.ars.usda.gov/services/docs.htm?docid=1398\" target=\"_blank\">foia</a> | <a href=\"http://www.usda.gov/wps/portal/usda/usdahome?navtype=ft&amp;navid=accessibility_statem\" target=\"_blank\">accessibility statement</a> | <a href=\"http://www.ars.usda.gov/main/docs.htm?docid=8040\" target=\"_blank\">information quality</a> | <a href=\"http://www.ars.usda.gov/disclaim.html#privacy\" target=\"_blank\">privacy policy</a> | <a href=\"http://www.usda.gov/wps/portal/usda/usdahome?navtype=ft&amp;navid=non_discrimination\" target=\"_blank\">non-discrimination statement</a> | <a href=\"http://www.usa.gov\" target=\"_blank\">usa.gov</a> | <a href=\"http://www.whitehouse.gov\" target=\"_blank\">white house</a></p>\\t \\n\\t\\t</section>\\n\\t\\t</div>\\n\\t\\t</small>\\n\\t\\t</footer>\\n\\t\\t\\n\\t\\t\\n    </body>\\n    <div  id=\"spinner\" class=\"progress\" style=\"display:none;height:100%;\">\\n\\t<div class=\"progress-bar progress-bar-striped active\" role=\"progressbar\" style=\"width:100%;\">\\n\\t<span class=\"sr-only\">updating</span><h4>updating...</h4>\\n\\t</div>\\n    </div>\\n</html>\\n'"
      ]
     },
     "execution_count": 58,
     "metadata": {},
     "output_type": "execute_result"
    }
   ],
   "source": [
    "item_nutrition_facts"
   ]
  },
  {
   "cell_type": "markdown",
   "metadata": {},
   "source": [
    "You may need to download the whole CSV"
   ]
  },
  {
   "cell_type": "markdown",
   "metadata": {},
   "source": [
    "### Getting the data from the CSV (may need to integrate with the above)"
   ]
  },
  {
   "cell_type": "code",
   "execution_count": 76,
   "metadata": {},
   "outputs": [],
   "source": [
    "link =\"https://ndb.nal.usda.gov/db/foods/show/45310812?format=Full&amp;reportfmt=csv&amp;Qv=1\""
   ]
  },
  {
   "cell_type": "code",
   "execution_count": 77,
   "metadata": {},
   "outputs": [],
   "source": [
    "data = simple_get(link)"
   ]
  },
  {
   "cell_type": "code",
   "execution_count": 78,
   "metadata": {
    "scrolled": true
   },
   "outputs": [
    {
     "data": {
      "text/plain": [
       "b'<!DOCTYPE html>\\n<!--[if lt IE 7 ]> <html lang=\"en\" class=\"no-js ie6\"> <![endif]-->\\n<!--[if IE 7 ]>    <html lang=\"en\" class=\"no-js ie7\"> <![endif]-->\\n<!--[if IE 8 ]>    <html lang=\"en\" class=\"no-js ie8\"> <![endif]-->\\n<!--[if IE 9 ]>    <html lang=\"en\" class=\"no-js ie9\"> <![endif]-->\\n<!--[if (gt IE 9)|!(IE)]><!-->\\n <html lang=\"en\" class=\"no-js\"><!--<![endif]-->\\n \\n    <head>\\n     <meta name=\"description\" content=\"United States Department of Agriculture Food Composition Databases\">\\n      <meta name=\"MobileOptimized\" content=\"width\">\\n    <meta name=\"HandheldFriendly\" content=\"true\">\\n     <meta name=\"viewport\" content=\"width=device-width, initial-scale=1\">\\n        <title>USDA Food Composition Databases</title>\\n        <link rel=\"shortcut icon\" href=\"/ndb/assets/favicon-586b9f862ff9b9e158afa1e50eb9a8e3.ico\" type=\"image/vnd.microsoft.icon\" />\\n    <script src=\"/ndb/assets/application-be3f7a9c00527159ebeff298ffd6ffc8.js\" type=\"text/javascript\" ></script>\\n<link rel=\"stylesheet\" href=\"/ndb/assets/main-2558742e2f3d5c57cdc2bc6f3d20e080.css\"/>\\n        \\n\\t\\t\\n \\n    <script async type=\"text/javascript\" id=\"_fed_an_ua_tag\" src=\" https://dap.digitalgov.gov/Universal-Federated-Analytics-Min.js?agency=USDA&subagency=ARS-NAL\"></script>\\n <!-- Global Site Tag (gtag.js) - Google Analytics -->\\n<script async src=\"https://www.googletagmanager.com/gtag/js?id=UA-36442725-1\"></script>\\n<script>\\n  window.dataLayer = window.dataLayer || [];\\n  function gtag(){dataLayer.push(arguments)};\\n  gtag(\\'js\\', new Date());\\n \\n  gtag(\\'config\\', \\'UA-36442725-1\\');\\n</script>\\n      \\n          \\r\\n<meta http-equiv=\"Content-Type\" content=\"text/html; charset=UTF-8\"/>\\r\\n<meta name=\"layout\" content=\"main\"/>\\r\\n\\n    </head>\\n<body>\\n\\n<div class=\"header-wrapper clearfix\">\\n\\t\\t\\t<div class=\"header-content header-background\">\\n                <div class=\"site-info col-sm-12 col-xs-12\">\\n                <a href=\"http://www.usda.gov/\" target=\"_blank\" id=\"anch_0\">\\n                <img src=\"/ndb/assets/USDA-Logo-dda9ff0850b624759c06dd21914b0f67.jpg\" style=\"float:left;padding:5px;\" height=\"51\" width=\"64\" title=\"USDA Logo\"/>\\n                </a>\\n                <span class=\"sitename-usda\">United States Department of Agriculture\\n                <br>Agricultural Research Service</span>\\n                <br><span class=\"sitename-nal\"> \\n               \\n                \\tUSDA Food Composition Databases\\n                \\n                 </span>\\n                 </div>\\n            </div>\\n\\t</div>\\n<div class=\"bodywrapper\">\\n\\r\\n <div class=\"navbar navbar-default\" role=\"navigation\">\\r\\n<div class=\"container-fluid\"> \\r\\n<div class=\"navbar-header\" >\\r\\n                    <button type=\"button\" class=\"navbar-toggle\" data-toggle=\"collapse\" data-target=\".navbar-responsive-collapse\">\\r\\n                        <span class=\"icon-bar\"></span>\\r\\n                        <span class=\"icon-bar\"></span>\\r\\n                    </button>\\r\\n                </div>\\r\\n<div class=\"navbar-collapse collapse navbar-responsive-collapse\" >\\r\\n<ul  class=\"nav navbar-nav\" >\\r\\n   \\r\\n       <li class=\"first leaf\" role=\"presentation\">\\r\\n   \\r\\n    <a href=\"/ndb\" title=\"Go the NDL home page\">Home</a>\\r\\n  </li>\\r\\n  \\r\\n  <li role=\"presentation\">\\r\\n  \\r\\n  \\t\\t<a href=\"/ndb/search/list\" name=\"menu-advanced\" title=\"Browse the foods list\">Food Search</a>\\r\\n  \\t</li>\\r\\n  \\t\\r\\n  \\t\\t<li role=\"presentation\">\\r\\n  \\t\\r\\n  \\t\\t<a href=\"/ndb/nutrients/index\" name=\"menu-advanced\" title=\"Create a nutrients list report\">Nutrient Search</a>\\r\\n  \\t</li>\\r\\n  \\t\\r\\n  \\t\\t<li role=\"presentation\">\\r\\n  \\t\\r\\n  \\t\\r\\n  \\t\\t<a href=\"/ndb/beef/show\" title=\"Use the ground beef calculator\">Ground Beef Calculator</a>\\r\\n  \\t</li>\\r\\n\\t  <li class=\"dropdown\"><a href=\"#\" class=\"dropdown-toggle\"  data-target=\"#\" data-toggle=\"dropdown\" target=\"_blank\" role=\"button\" aria-haspopup=\"true\" title=\"Select Documentation and Help Items\" aria-expanded=\"false\">Documentation and Help<span class=\"caret\"></span></a>\\r\\n\\t\\t<ul class=\"dropdown-menu\">\\r\\n  \\t \\t<li  class=\"first leaf\" >\\r\\n    \\t<a href=\"/ndb/doc/index\" title=\"How to use the NDB API\">Food Composition Databases API</a>\\r\\n    \\t</li>\\r\\n  \\r\\n    <li  class=\"leaf\" >\\r\\n    \\t<a href=\"https://www.ars.usda.gov/ARSUserFiles/80400525/Data/SR-Legacy/SR-Legacy_Doc.pdf\" title=\"View and download release documentation\" target=\"_help\">SR1 Documentation</a>\\r\\n    </li>\\r\\n    <li>\\r\\n    \\t<a href=\"/ndb/docs/BFPDB_Doc.pdf\" title=\"View and download branded food products documentation\" target=\"_help\">USDA Branded Food Products Documentation</a>\\r\\n    </li>\\r\\n    \\r\\n  <li class=\"first leaf\" >\\r\\n    \\t<a href=\"/ndb/help/index\" title=\"Read help on how to use the website\">Food Composition Databases Help</a>\\r\\n    </li>\\r\\n    </ul>\\r\\n    </li>\\r\\n       <li class=\"dropdown\"><a href=\"#\" class=\"dropdown-toggle\" data-target=\"#\" data-toggle=\"dropdown\" target=\"_blank\" role=\"button\" aria-haspopup=\"true\" title=\"Select Downloadable Files\" aria-expanded=\"false\">Downloads<span class=\"caret\"></span></a>\\r\\n\\t<ul class=\"dropdown-menu\">\\r\\n\\t\\t<li >\\r\\n\\t\\t<a href=\"https://www.ars.usda.gov/ARSUserFiles/80400525/Data/BFPDB/BFPD_db_07132018.zip\" title=\"Download BFPD Access Files\" tabindex=\"-1\">BFPD Access Database Files</a>\\r\\n\\t\\t</li>\\r\\n\\t\\t<li >\\r\\n\\t\\t<a href=\"https://www.ars.usda.gov/ARSUserFiles/80400525/Data/BFPDB/BFPD_csv_07132018.zip\" title=\"CSV Files\">BFPD ASCII Files</a>\\r\\n\\t\\t</li>\\r\\n\\t</li>\\r\\n\\t\\r\\n  \\t <li  class=\"leaf\" >\\r\\n\\t\\t<a href=\"https://www.ars.usda.gov/ARSUserFiles/80400525/Data/SR-Legacy/SR-Leg_DB.zip\" title=\"Download SR Legacy Access Files\">SR Legacy Access Database Files</a>\\r\\n    \\t</li>\\r\\n\\t<li  class=\"leaf\" >\\r\\n\\t\\t<a href=\"https://www.ars.usda.gov/ARSUserFiles/80400525/Data/SR-Legacy/SR-Leg_ASC.zip\" title=\"Download SR CSV Files\">SR Legacy ASCII Files</a>\\r\\n    \\t</li>\\r\\n\\t </ul>\\r\\n\\t\\t\\r\\n       \\r\\n    </li>\\r\\n     \\t<li>\\r\\n  \\t\\t<a href=\"http://www.ars.usda.gov/main/docs.htm?docid=4445\" title=\"Click to contact us\">Contact Us</a>\\r\\n  \\t</li>\\r\\n       \\r\\n</ul>\\r\\n</div>\\r\\n</div>\\r\\n</div>\\r\\n\\r\\n   \\n      \\n        \\r\\n<div class=\"container\" style=\"width:90%;;padding:0px;\">\\r\\n    \\r\\n\\t\\r\\n<div style=\"border:solid #0071bc;padding:12px;\">Visit <a href=\"https://fdc.nal.usda.gov\" style=\"text-decoration:underline\">FoodData Central</a> to access USDA\\xe2\\x80\\x99s new Food and Nutrient Data System. All of these datasets\\xe2\\x80\\x94including the Food and Nutrient Database for Dietary Studies (FNDDS), SR Legacy, and the USDA Branded Food Products Database\\xe2\\x80\\x94have been transitioned to FoodData Central which also includes expanded nutrient content information never before available as well as links to diverse data sources that offer related agricultural, food, health, dietary supplement, and other information. FoodData Central will replace this existing Food Composition Database site in the coming weeks and users will be automatically be redirected to the new web site.\\r\\n <br/><br/>\\r\\n    We welcome your <a href=\"https://fdc.nal.usda.gov/contact.html\" style=\"text-decoration:underline\">questions, feedback and comments</a> about the new FoodData Central system.\\r\\n</div>\\r\\n<h1>Welcome to the USDA Food Composition Databases</h1>\\r\\n  \\r\\n  \\t<p>This Web site allows you to search the following USDA Food Composition Databases from one location:\\r\\n\\t<ul>\\r\\n    <li>USDA National Nutrient Database for Standard Reference Legacy Release, April 2018</li>\\r\\n    <li>USDA Branded Food Products Database</li>\\r\\n    </ul>\\r\\n   </p>\\r\\n   <p>\\r\\nYou can search the database by food item, food group, or manufacturer\\'s name to find the nutrient information for your food items. You can also generate lists of foods sorted by nutrient content. In addition, data from the following Special Interest Databases will be shown along with the corresponding food items from the USDA National Nutrient Database for Standard Reference:\\r\\n<ul>\\r\\n     <li >Flavonoids, Release 3.3, March 2018)</li>\\r\\n     <li >Isoflavones, Release 2.1, November 2015</li>\\r\\n    <li > Proanthocyanidins, Release 2.1, March 2018 </li>\\r\\n   </ul>\\r\\n  </p>\\r\\n\\r\\n  <p>\\r\\nThe <a href=\"/ndb/beef/show\" title=\"Try the beef calculator\">USDA Ground Beef Calculator</a> can also be accessed from the same search page. \\r\\n</p>\\r\\n<p class=\"text-center\">\\r\\n<a href=\"/ndb/search/list\" link=\"Search the database\"><span class=\"btn btn-primary btn-large\">Start your search here.</span></a>\\r\\n</p>\\r\\n<p>\\r\\nFor more information and documentation on the current version of this database, select from \"Documentation and Help\" on the main navigation bar above. \\r\\n</p>\\r\\n<p >\\r\\n    <span class=\"font-italic\"><i>The Databases used in this search program are maintained by the <a href=\"https://www.ars.usda.gov/northeast-area/beltsville-md-bhnrc/beltsville-human-nutrition-research-center/nutrient-data-laboratory/\" title=\"Link to Nutrient Data Laboratory home page\">Nutrient Data Laboratory</a>, <a href=\"https://www.ars.usda.gov/northeast-area/beltsville-md-bhnrc/beltsville-human-nutrition-research-center/\" title=\"Link to Beltsville Human Nutrition Research Center Home Page\"> Beltsville Human Nutrition Research Center</a>. The web site was jointly developed by the USDA Nutrient Data Laboratory, and the Food and Nutrition Information Center and Information Systems Division of the National Agricultural Library.</i>\\r\\n</p>\\r\\n</div>\\r\\n\\n </div>\\n        <footer>\\n         <small>  \\n         <div  class=\"region region-footer\" >\\n        <section id=\"block-block-1\"  class=\"block block-block footer clearfix\">\\n        \\n\\t\\t\\tUSDA Food Composition Databases\\n\\t\\t\\t\\n\\t\\t<br/>\\n\\t\\t\\t <a href=\"http://www.nal.usda.gov\">Software developed by the National Agricultural Library</a> v.3.9.5.3_2019-06-13 \\n\\t\\t <br/>\\n\\t\\t <a href=\"http://www.nal.usda.gov\">NAL Home</a> | <a href=\"http://www.usda.gov\" target=\"_blank\">USDA.gov</a> | <a href=\"http://www.ars.usda.gov\" target=\"_blank\">Agricultural Research Service</a> | <a href=\"http://www.usda.gov/wps/portal/usda/usdahome?navid=PLAIN_WRITING\">Plain Language</a> | <a href=\"http://www.ars.usda.gov/Services/docs.htm?docid=1398\" target=\"_blank\">FOIA</a> | <a href=\"http://www.usda.gov/wps/portal/usda/usdahome?navtype=FT&amp;navid=ACCESSIBILITY_STATEM\" target=\"_blank\">Accessibility Statement</a> | <a href=\"http://www.ars.usda.gov/Main/docs.htm?docid=8040\" target=\"_blank\">Information Quality</a> | <a href=\"http://www.ars.usda.gov/disclaim.html#Privacy\" target=\"_blank\">Privacy Policy</a> | <a href=\"http://www.usda.gov/wps/portal/usda/usdahome?navtype=FT&amp;navid=NON_DISCRIMINATION\" target=\"_blank\">Non-Discrimination Statement</a> | <a href=\"http://www.usa.gov\" target=\"_blank\">USA.gov</a> | <a href=\"http://www.whitehouse.gov\" target=\"_blank\">White House</a></p>\\t \\n\\t\\t</section>\\n\\t\\t</div>\\n\\t\\t</small>\\n\\t\\t</footer>\\n\\t\\t\\n\\t\\t\\n    </body>\\n    <div  id=\"spinner\" class=\"progress\" style=\"display:none;height:100%;\">\\n\\t<div class=\"progress-bar progress-bar-striped active\" role=\"progressbar\" style=\"width:100%;\">\\n\\t<span class=\"sr-only\">Updating</span><h4>Updating...</h4>\\n\\t</div>\\n    </div>\\n</html>\\n'"
      ]
     },
     "execution_count": 78,
     "metadata": {},
     "output_type": "execute_result"
    }
   ],
   "source": [
    "data"
   ]
  },
  {
   "cell_type": "code",
   "execution_count": 79,
   "metadata": {},
   "outputs": [
    {
     "data": {
      "text/plain": [
       "bytes"
      ]
     },
     "execution_count": 79,
     "metadata": {},
     "output_type": "execute_result"
    }
   ],
   "source": [
    "type(data)"
   ]
  },
  {
   "cell_type": "code",
   "execution_count": 80,
   "metadata": {},
   "outputs": [],
   "source": [
    "soup = BeautifulSoup(data, 'html.parser')"
   ]
  },
  {
   "cell_type": "code",
   "execution_count": 82,
   "metadata": {},
   "outputs": [
    {
     "data": {
      "text/plain": [
       "<body>\n",
       "<div class=\"header-wrapper clearfix\">\n",
       "<div class=\"header-content header-background\">\n",
       "<div class=\"site-info col-sm-12 col-xs-12\">\n",
       "<a href=\"http://www.usda.gov/\" id=\"anch_0\" target=\"_blank\">\n",
       "<img height=\"51\" src=\"/ndb/assets/USDA-Logo-dda9ff0850b624759c06dd21914b0f67.jpg\" style=\"float:left;padding:5px;\" title=\"USDA Logo\" width=\"64\"/>\n",
       "</a>\n",
       "<span class=\"sitename-usda\">United States Department of Agriculture\n",
       "                <br/>Agricultural Research Service</span>\n",
       "<br/><span class=\"sitename-nal\"> \n",
       "               \n",
       "                \tUSDA Food Composition Databases\n",
       "                \n",
       "                 </span>\n",
       "</div>\n",
       "</div>\n",
       "</div>\n",
       "<div class=\"bodywrapper\">\n",
       "<div class=\"navbar navbar-default\" role=\"navigation\">\n",
       "<div class=\"container-fluid\">\n",
       "<div class=\"navbar-header\">\n",
       "<button class=\"navbar-toggle\" data-target=\".navbar-responsive-collapse\" data-toggle=\"collapse\" type=\"button\">\n",
       "<span class=\"icon-bar\"></span>\n",
       "<span class=\"icon-bar\"></span>\n",
       "</button>\n",
       "</div>\n",
       "<div class=\"navbar-collapse collapse navbar-responsive-collapse\">\n",
       "<ul class=\"nav navbar-nav\">\n",
       "<li class=\"first leaf\" role=\"presentation\">\n",
       "<a href=\"/ndb\" title=\"Go the NDL home page\">Home</a>\n",
       "</li>\n",
       "<li role=\"presentation\">\n",
       "<a href=\"/ndb/search/list\" name=\"menu-advanced\" title=\"Browse the foods list\">Food Search</a>\n",
       "</li>\n",
       "<li role=\"presentation\">\n",
       "<a href=\"/ndb/nutrients/index\" name=\"menu-advanced\" title=\"Create a nutrients list report\">Nutrient Search</a>\n",
       "</li>\n",
       "<li role=\"presentation\">\n",
       "<a href=\"/ndb/beef/show\" title=\"Use the ground beef calculator\">Ground Beef Calculator</a>\n",
       "</li>\n",
       "<li class=\"dropdown\"><a aria-expanded=\"false\" aria-haspopup=\"true\" class=\"dropdown-toggle\" data-target=\"#\" data-toggle=\"dropdown\" href=\"#\" role=\"button\" target=\"_blank\" title=\"Select Documentation and Help Items\">Documentation and Help<span class=\"caret\"></span></a>\n",
       "<ul class=\"dropdown-menu\">\n",
       "<li class=\"first leaf\">\n",
       "<a href=\"/ndb/doc/index\" title=\"How to use the NDB API\">Food Composition Databases API</a>\n",
       "</li>\n",
       "<li class=\"leaf\">\n",
       "<a href=\"https://www.ars.usda.gov/ARSUserFiles/80400525/Data/SR-Legacy/SR-Legacy_Doc.pdf\" target=\"_help\" title=\"View and download release documentation\">SR1 Documentation</a>\n",
       "</li>\n",
       "<li>\n",
       "<a href=\"/ndb/docs/BFPDB_Doc.pdf\" target=\"_help\" title=\"View and download branded food products documentation\">USDA Branded Food Products Documentation</a>\n",
       "</li>\n",
       "<li class=\"first leaf\">\n",
       "<a href=\"/ndb/help/index\" title=\"Read help on how to use the website\">Food Composition Databases Help</a>\n",
       "</li>\n",
       "</ul>\n",
       "</li>\n",
       "<li class=\"dropdown\"><a aria-expanded=\"false\" aria-haspopup=\"true\" class=\"dropdown-toggle\" data-target=\"#\" data-toggle=\"dropdown\" href=\"#\" role=\"button\" target=\"_blank\" title=\"Select Downloadable Files\">Downloads<span class=\"caret\"></span></a>\n",
       "<ul class=\"dropdown-menu\">\n",
       "<li>\n",
       "<a href=\"https://www.ars.usda.gov/ARSUserFiles/80400525/Data/BFPDB/BFPD_db_07132018.zip\" tabindex=\"-1\" title=\"Download BFPD Access Files\">BFPD Access Database Files</a>\n",
       "</li>\n",
       "<li>\n",
       "<a href=\"https://www.ars.usda.gov/ARSUserFiles/80400525/Data/BFPDB/BFPD_csv_07132018.zip\" title=\"CSV Files\">BFPD ASCII Files</a>\n",
       "</li>\n",
       "</ul></li>\n",
       "<li class=\"leaf\">\n",
       "<a href=\"https://www.ars.usda.gov/ARSUserFiles/80400525/Data/SR-Legacy/SR-Leg_DB.zip\" title=\"Download SR Legacy Access Files\">SR Legacy Access Database Files</a>\n",
       "</li>\n",
       "<li class=\"leaf\">\n",
       "<a href=\"https://www.ars.usda.gov/ARSUserFiles/80400525/Data/SR-Legacy/SR-Leg_ASC.zip\" title=\"Download SR CSV Files\">SR Legacy ASCII Files</a>\n",
       "</li>\n",
       "</ul>\n",
       "</div></div></div></div></body>"
      ]
     },
     "execution_count": 82,
     "metadata": {},
     "output_type": "execute_result"
    }
   ],
   "source": [
    "soup.body"
   ]
  },
  {
   "cell_type": "code",
   "execution_count": 1,
   "metadata": {},
   "outputs": [
    {
     "ename": "NameError",
     "evalue": "name 'link' is not defined",
     "output_type": "error",
     "traceback": [
      "\u001b[0;31m---------------------------------------------------------------------------\u001b[0m",
      "\u001b[0;31mNameError\u001b[0m                                 Traceback (most recent call last)",
      "\u001b[0;32m<ipython-input-1-9b5a6b5180af>\u001b[0m in \u001b[0;36m<module>\u001b[0;34m\u001b[0m\n\u001b[1;32m      1\u001b[0m \u001b[0;32mimport\u001b[0m \u001b[0murllib\u001b[0m\u001b[0;34m.\u001b[0m\u001b[0mrequest\u001b[0m\u001b[0;34m\u001b[0m\u001b[0m\n\u001b[0;32m----> 2\u001b[0;31m \u001b[0mdata\u001b[0m \u001b[0;34m=\u001b[0m \u001b[0murllib\u001b[0m\u001b[0;34m.\u001b[0m\u001b[0mrequest\u001b[0m\u001b[0;34m.\u001b[0m\u001b[0murlretrieve\u001b[0m\u001b[0;34m(\u001b[0m\u001b[0mlink\u001b[0m\u001b[0;34m,\u001b[0m \u001b[0;34m\"./t.csv\"\u001b[0m\u001b[0;34m)\u001b[0m\u001b[0;34m\u001b[0m\u001b[0m\n\u001b[0m",
      "\u001b[0;31mNameError\u001b[0m: name 'link' is not defined"
     ]
    }
   ],
   "source": [
    "import urllib.request\n",
    "data = urllib.request.urlretrieve(link, \"./t.csv\")"
   ]
  },
  {
   "cell_type": "code",
   "execution_count": null,
   "metadata": {},
   "outputs": [],
   "source": []
  },
  {
   "cell_type": "markdown",
   "metadata": {},
   "source": [
    "### Getting Data from CSV (second try) - Manufactueed Products"
   ]
  },
  {
   "cell_type": "code",
   "execution_count": 137,
   "metadata": {},
   "outputs": [],
   "source": [
    "import urllib, sys, urllib.request, re\n",
    "from io import StringIO"
   ]
  },
  {
   "cell_type": "code",
   "execution_count": 138,
   "metadata": {},
   "outputs": [],
   "source": [
    "#write the csv to file\n",
    "url = \"https://ndb.nal.usda.gov/ndb/foods/show/45134669?format=Full&reportfmt=csv&Qv=1\"\n",
    "csv = urllib.request.urlopen(url).read() # returns type 'bytes'\n",
    "with open('./file.htm', 'wb') as fx: # bytes, hence mode 'wb'\n",
    "    fx.write(csv)"
   ]
  },
  {
   "cell_type": "code",
   "execution_count": 139,
   "metadata": {},
   "outputs": [],
   "source": [
    "#read the file\n",
    "with open(\"./file.htm\") as file:\n",
    "    data = file.read().lower() "
   ]
  },
  {
   "cell_type": "code",
   "execution_count": 140,
   "metadata": {},
   "outputs": [],
   "source": [
    "#collect the nutition table for loading into pandas\n",
    "r = re.compile(\"(nutrient,unit,data[\\W\\w\\D\\d]*?)(ingredients)\")\n",
    "l = re.search(r,data)\n",
    "nutrition = l.group(1)\n",
    "TESTDATA = StringIO(nutrition)"
   ]
  },
  {
   "cell_type": "code",
   "execution_count": 141,
   "metadata": {},
   "outputs": [],
   "source": [
    "#collect item name\n",
    "r2 = re.compile(\"nutrient data for:([\\W\\w\\d\\D]*?)\\\\n\")\n",
    "l2 = re.search(r2,data)\n",
    "name = l2.group(1)"
   ]
  },
  {
   "cell_type": "code",
   "execution_count": 142,
   "metadata": {},
   "outputs": [],
   "source": [
    "#add intended name"
   ]
  },
  {
   "cell_type": "code",
   "execution_count": 143,
   "metadata": {},
   "outputs": [],
   "source": [
    "#clean the df\n",
    "df = pd.read_csv(TESTDATA)\n",
    "df.dropna(axis=0, thresh = df.shape[1] -1 ,inplace=True)\n",
    "df.dropna(axis=1,how=\"all\",inplace=True)"
   ]
  },
  {
   "cell_type": "code",
   "execution_count": 155,
   "metadata": {},
   "outputs": [],
   "source": [
    "cols = list(df.columns)"
   ]
  },
  {
   "cell_type": "code",
   "execution_count": 164,
   "metadata": {},
   "outputs": [],
   "source": [
    "cols2 = []\n",
    "for element in cols:\n",
    "    #print(element.split(\" \"))\n",
    "    if \"100\" in element.split(\" \") or element == \"nutrient\" or element == \"unit\":\n",
    "        cols2.append(element)"
   ]
  },
  {
   "cell_type": "code",
   "execution_count": 174,
   "metadata": {},
   "outputs": [],
   "source": [
    "df = df[cols2]"
   ]
  },
  {
   "cell_type": "code",
   "execution_count": 176,
   "metadata": {},
   "outputs": [
    {
     "data": {
      "text/html": [
       "<div>\n",
       "<style scoped>\n",
       "    .dataframe tbody tr th:only-of-type {\n",
       "        vertical-align: middle;\n",
       "    }\n",
       "\n",
       "    .dataframe tbody tr th {\n",
       "        vertical-align: top;\n",
       "    }\n",
       "\n",
       "    .dataframe thead th {\n",
       "        text-align: right;\n",
       "    }\n",
       "</style>\n",
       "<table border=\"1\" class=\"dataframe\">\n",
       "  <thead>\n",
       "    <tr style=\"text-align: right;\">\n",
       "      <th></th>\n",
       "      <th>nutrient</th>\n",
       "      <th>unit</th>\n",
       "      <th>1value per 100 g</th>\n",
       "    </tr>\n",
       "  </thead>\n",
       "  <tbody>\n",
       "    <tr>\n",
       "      <th>1</th>\n",
       "      <td>energy</td>\n",
       "      <td>kcal</td>\n",
       "      <td>39.00</td>\n",
       "    </tr>\n",
       "    <tr>\n",
       "      <th>2</th>\n",
       "      <td>protein</td>\n",
       "      <td>g</td>\n",
       "      <td>0.00</td>\n",
       "    </tr>\n",
       "    <tr>\n",
       "      <th>3</th>\n",
       "      <td>total lipid (fat)</td>\n",
       "      <td>g</td>\n",
       "      <td>0.00</td>\n",
       "    </tr>\n",
       "    <tr>\n",
       "      <th>4</th>\n",
       "      <td>carbohydrate, by difference</td>\n",
       "      <td>g</td>\n",
       "      <td>10.67</td>\n",
       "    </tr>\n",
       "    <tr>\n",
       "      <th>5</th>\n",
       "      <td>fiber, total dietary</td>\n",
       "      <td>g</td>\n",
       "      <td>0.00</td>\n",
       "    </tr>\n",
       "    <tr>\n",
       "      <th>6</th>\n",
       "      <td>sugars, total</td>\n",
       "      <td>g</td>\n",
       "      <td>10.67</td>\n",
       "    </tr>\n",
       "    <tr>\n",
       "      <th>8</th>\n",
       "      <td>calcium, ca</td>\n",
       "      <td>mg</td>\n",
       "      <td>0.00</td>\n",
       "    </tr>\n",
       "    <tr>\n",
       "      <th>9</th>\n",
       "      <td>iron, fe</td>\n",
       "      <td>mg</td>\n",
       "      <td>0.00</td>\n",
       "    </tr>\n",
       "    <tr>\n",
       "      <th>10</th>\n",
       "      <td>sodium, na</td>\n",
       "      <td>mg</td>\n",
       "      <td>18.00</td>\n",
       "    </tr>\n",
       "    <tr>\n",
       "      <th>12</th>\n",
       "      <td>vitamin c, total ascorbic acid</td>\n",
       "      <td>mg</td>\n",
       "      <td>0.00</td>\n",
       "    </tr>\n",
       "    <tr>\n",
       "      <th>13</th>\n",
       "      <td>vitamin a, iu</td>\n",
       "      <td>iu</td>\n",
       "      <td>0.00</td>\n",
       "    </tr>\n",
       "    <tr>\n",
       "      <th>15</th>\n",
       "      <td>fatty acids, total saturated</td>\n",
       "      <td>g</td>\n",
       "      <td>0.00</td>\n",
       "    </tr>\n",
       "    <tr>\n",
       "      <th>16</th>\n",
       "      <td>cholesterol</td>\n",
       "      <td>mg</td>\n",
       "      <td>0.00</td>\n",
       "    </tr>\n",
       "  </tbody>\n",
       "</table>\n",
       "</div>"
      ],
      "text/plain": [
       "                          nutrient  unit  1value per 100 g\n",
       "1                           energy  kcal             39.00\n",
       "2                          protein     g              0.00\n",
       "3                total lipid (fat)     g              0.00\n",
       "4      carbohydrate, by difference     g             10.67\n",
       "5             fiber, total dietary     g              0.00\n",
       "6                    sugars, total     g             10.67\n",
       "8                      calcium, ca    mg              0.00\n",
       "9                         iron, fe    mg              0.00\n",
       "10                      sodium, na    mg             18.00\n",
       "12  vitamin c, total ascorbic acid    mg              0.00\n",
       "13                   vitamin a, iu    iu              0.00\n",
       "15    fatty acids, total saturated     g              0.00\n",
       "16                     cholesterol    mg              0.00"
      ]
     },
     "execution_count": 176,
     "metadata": {},
     "output_type": "execute_result"
    }
   ],
   "source": [
    "#FINAL DATAFRAME FOR SOME ITEM\n",
    "df"
   ]
  },
  {
   "cell_type": "code",
   "execution_count": 168,
   "metadata": {
    "scrolled": true
   },
   "outputs": [
    {
     "data": {
      "text/html": [
       "<div>\n",
       "<style scoped>\n",
       "    .dataframe tbody tr th:only-of-type {\n",
       "        vertical-align: middle;\n",
       "    }\n",
       "\n",
       "    .dataframe tbody tr th {\n",
       "        vertical-align: top;\n",
       "    }\n",
       "\n",
       "    .dataframe thead th {\n",
       "        text-align: right;\n",
       "    }\n",
       "</style>\n",
       "<table border=\"1\" class=\"dataframe\">\n",
       "  <thead>\n",
       "    <tr style=\"text-align: right;\">\n",
       "      <th></th>\n",
       "      <th>1</th>\n",
       "      <th>2</th>\n",
       "      <th>3</th>\n",
       "      <th>4</th>\n",
       "      <th>5</th>\n",
       "      <th>6</th>\n",
       "      <th>8</th>\n",
       "      <th>9</th>\n",
       "      <th>10</th>\n",
       "      <th>12</th>\n",
       "      <th>13</th>\n",
       "      <th>15</th>\n",
       "      <th>16</th>\n",
       "    </tr>\n",
       "  </thead>\n",
       "  <tbody>\n",
       "    <tr>\n",
       "      <th>nutrient</th>\n",
       "      <td>energy</td>\n",
       "      <td>protein</td>\n",
       "      <td>total lipid (fat)</td>\n",
       "      <td>carbohydrate, by difference</td>\n",
       "      <td>fiber, total dietary</td>\n",
       "      <td>sugars, total</td>\n",
       "      <td>calcium, ca</td>\n",
       "      <td>iron, fe</td>\n",
       "      <td>sodium, na</td>\n",
       "      <td>vitamin c, total ascorbic acid</td>\n",
       "      <td>vitamin a, iu</td>\n",
       "      <td>fatty acids, total saturated</td>\n",
       "      <td>cholesterol</td>\n",
       "    </tr>\n",
       "    <tr>\n",
       "      <th>unit</th>\n",
       "      <td>kcal</td>\n",
       "      <td>g</td>\n",
       "      <td>g</td>\n",
       "      <td>g</td>\n",
       "      <td>g</td>\n",
       "      <td>g</td>\n",
       "      <td>mg</td>\n",
       "      <td>mg</td>\n",
       "      <td>mg</td>\n",
       "      <td>mg</td>\n",
       "      <td>iu</td>\n",
       "      <td>g</td>\n",
       "      <td>mg</td>\n",
       "    </tr>\n",
       "    <tr>\n",
       "      <th>1value per 100 g</th>\n",
       "      <td>39</td>\n",
       "      <td>0</td>\n",
       "      <td>0</td>\n",
       "      <td>10.67</td>\n",
       "      <td>0</td>\n",
       "      <td>10.67</td>\n",
       "      <td>0</td>\n",
       "      <td>0</td>\n",
       "      <td>18</td>\n",
       "      <td>0</td>\n",
       "      <td>0</td>\n",
       "      <td>0</td>\n",
       "      <td>0</td>\n",
       "    </tr>\n",
       "  </tbody>\n",
       "</table>\n",
       "</div>"
      ],
      "text/plain": [
       "                      1        2                  3   \\\n",
       "nutrient          energy  protein  total lipid (fat)   \n",
       "unit                kcal        g                  g   \n",
       "1value per 100 g      39        0                  0   \n",
       "\n",
       "                                           4                     5   \\\n",
       "nutrient          carbohydrate, by difference  fiber, total dietary   \n",
       "unit                                        g                     g   \n",
       "1value per 100 g                        10.67                     0   \n",
       "\n",
       "                             6            8         9           10  \\\n",
       "nutrient          sugars, total  calcium, ca  iron, fe  sodium, na   \n",
       "unit                          g           mg        mg          mg   \n",
       "1value per 100 g          10.67            0         0          18   \n",
       "\n",
       "                                              12             13  \\\n",
       "nutrient          vitamin c, total ascorbic acid  vitamin a, iu   \n",
       "unit                                          mg             iu   \n",
       "1value per 100 g                               0              0   \n",
       "\n",
       "                                            15           16  \n",
       "nutrient          fatty acids, total saturated  cholesterol  \n",
       "unit                                         g           mg  \n",
       "1value per 100 g                             0            0  "
      ]
     },
     "execution_count": 168,
     "metadata": {},
     "output_type": "execute_result"
    }
   ],
   "source": [
    "df.T"
   ]
  },
  {
   "cell_type": "markdown",
   "metadata": {},
   "source": [
    "All manufactured items have data for 100 grams of the product => this can be a standard or method of normalization such that we make products comparable e.g. apple vs soda would be compared by volume."
   ]
  },
  {
   "cell_type": "code",
   "execution_count": null,
   "metadata": {},
   "outputs": [],
   "source": []
  },
  {
   "cell_type": "code",
   "execution_count": null,
   "metadata": {},
   "outputs": [],
   "source": []
  },
  {
   "cell_type": "code",
   "execution_count": null,
   "metadata": {},
   "outputs": [],
   "source": [
    "\"carbohydrate, by difference\""
   ]
  },
  {
   "cell_type": "code",
   "execution_count": null,
   "metadata": {},
   "outputs": [],
   "source": []
  },
  {
   "cell_type": "code",
   "execution_count": null,
   "metadata": {},
   "outputs": [],
   "source": []
  },
  {
   "cell_type": "code",
   "execution_count": null,
   "metadata": {},
   "outputs": [],
   "source": []
  },
  {
   "cell_type": "code",
   "execution_count": null,
   "metadata": {},
   "outputs": [],
   "source": []
  },
  {
   "cell_type": "code",
   "execution_count": 9,
   "metadata": {},
   "outputs": [],
   "source": [
    "\"\"\"Link Style\"\"\"\n",
    "\n",
    "test_string2 = \"\"\"\n",
    "dcbsacda;kjbas;\n",
    "\n",
    "<a href=\"/ndb/foods/show/21268?fgcd=&amp;manu=&amp;format=&amp;count=&amp;max=25&amp;offset=&amp;sort=default&amp;order=asc&amp;qlookup=nachos&amp;ds=&amp;qt=&amp;qp=&amp;qa=&amp;qn=&amp;q=&amp;ing=\" title=\"Click to view reports for this food\">\n",
    "\t\t    TACO BELL, Nachos\n",
    "\t\t    </a>\n",
    "            \n",
    "sddbask\n",
    "\"\"\""
   ]
  },
  {
   "cell_type": "code",
   "execution_count": 60,
   "metadata": {},
   "outputs": [],
   "source": [
    "x = \"\"\"<div class=\"dataTables_scroll\"><div class=\"dataTables_scrollHead\" style=\"overflow: hidden; position: relative; border: 0px; width: 100%;\"><div class=\"dataTables_scrollHeadInner\" style=\"box-sizing: content-box; width: 659px; padding-right: 15px;\"><table class=\"display wrap dataTable no-footer\" cellspacing=\"0\" width=\"100%\" role=\"grid\" style=\"margin-left: 0px; width: 659px;\"><thead>\n",
    "<tr role=\"row\"><th class=\"column-style emptyLabel sorting_disabled\" title=\"Nutrient description\" rowspan=\"1\" colspan=\"1\" style=\"width: 289px;\">Nutrient</th><th class=\"column-style unitLabel sorting_disabled\" title=\"Unit\" rowspan=\"1\" colspan=\"1\" style=\"width: 51px;\">Unit</th><th class=\"column-style sorting_disabled\" title=\"Value for 1 box (17g)\" rowspan=\"1\" colspan=\"1\" style=\"width: 158px;\">\n",
    "  \t<input type=\"text\" name=\"Q267687\" title=\"Enter a value for 1 box (17g)\" style=\"font-size:.85em;width:45px;\" onchange=\"document.forms[0].submit();\" class=\"qv\" maxlength=\"5\" value=\"1\" id=\"Q267687\">\n",
    "  \t<br>\n",
    "  \tbox (17g) 17&nbsp;g\n",
    "  \t</th><th class=\"column-style sorting_disabled\" title=\"Value for 100 g\" rowspan=\"1\" colspan=\"1\" style=\"width: 160px;\"><input type=\"text\" name=\"Qv\" class=\"qv\" onchange=\"submit();\" style=\"color:#000;width:45px;font-size:.85em;text-align:right;border-style:inset;height:20px\" maxlength=\"5\" value=\"1\" id=\"Qv\"><br>Value per 100&nbsp;g</th></tr>\n",
    "</thead></table></div></div><div class=\"dataTables_scrollBody\" style=\"position: relative; overflow: auto; width: 100%; max-height: 300px;\"><table id=\"nutdata\" class=\"display wrap dataTable no-footer\" cellspacing=\"0\" width=\"100%\" role=\"grid\" aria-describedby=\"nutdata_info\" style=\"width: 100%;\"><thead>\n",
    "<tr role=\"row\" style=\"height: 0px;\"><th class=\"column-style emptyLabel sorting_disabled\" title=\"Nutrient description\" rowspan=\"1\" colspan=\"1\" style=\"width: 289px; padding-top: 0px; padding-bottom: 0px; border-top-width: 0px; border-bottom-width: 0px; height: 0px;\"><div class=\"dataTables_sizing\" style=\"height:0;overflow:hidden;\">Nutrient</div></th><th class=\"column-style unitLabel sorting_disabled\" title=\"Unit\" rowspan=\"1\" colspan=\"1\" style=\"width: 51px; padding-top: 0px; padding-bottom: 0px; border-top-width: 0px; border-bottom-width: 0px; height: 0px;\"><div class=\"dataTables_sizing\" style=\"height:0;overflow:hidden;\">Unit</div></th><th class=\"column-style sorting_disabled\" title=\"Value for 1 box (17g)\" rowspan=\"1\" colspan=\"1\" style=\"width: 158px; padding-top: 0px; padding-bottom: 0px; border-top-width: 0px; border-bottom-width: 0px; height: 0px;\"><div class=\"dataTables_sizing\" style=\"height:0;overflow:hidden;\">\n",
    "  \t<input type=\"text\" name=\"Q267687\" title=\"Enter a value for 1 box (17g)\" style=\"font-size:.85em;width:45px;\" onchange=\"document.forms[0].submit();\" class=\"qv\" maxlength=\"5\" value=\"1\" id=\"Q267687\">\n",
    "  \t<br>\n",
    "  \tbox (17g) 17&nbsp;g\n",
    "  \t</div></th><th class=\"column-style sorting_disabled\" title=\"Value for 100 g\" rowspan=\"1\" colspan=\"1\" style=\"width: 160px; padding-top: 0px; padding-bottom: 0px; border-top-width: 0px; border-bottom-width: 0px; height: 0px;\"><div class=\"dataTables_sizing\" style=\"height:0;overflow:hidden;\"><input type=\"text\" name=\"Qv\" class=\"qv\" onchange=\"submit();\" style=\"color:#000;width:45px;font-size:.85em;text-align:right;border-style:inset;height:20px\" maxlength=\"5\" value=\"1\" id=\"Qv\"><br>Value per 100&nbsp;g</div></th></tr>\n",
    "</thead>\n",
    "\n",
    "<tbody>\"\"\""
   ]
  },
  {
   "cell_type": "code",
   "execution_count": 27,
   "metadata": {},
   "outputs": [],
   "source": [
    "import pandas as pd"
   ]
  },
  {
   "cell_type": "code",
   "execution_count": 61,
   "metadata": {},
   "outputs": [
    {
     "data": {
      "text/plain": [
       "[Empty DataFrame\n",
       " Columns: [Nutrient, Unit, box (17g) 17 g, Value per 100 g]\n",
       " Index: [], Empty DataFrame\n",
       " Columns: [Nutrient, Unit, box (17g) 17 g, Value per 100 g]\n",
       " Index: []]"
      ]
     },
     "execution_count": 61,
     "metadata": {},
     "output_type": "execute_result"
    }
   ],
   "source": [
    "pd.read_html(x)"
   ]
  },
  {
   "cell_type": "code",
   "execution_count": null,
   "metadata": {},
   "outputs": [],
   "source": []
  }
 ],
 "metadata": {
  "kernelspec": {
   "display_name": "Python 3",
   "language": "python",
   "name": "python3"
  },
  "language_info": {
   "codemirror_mode": {
    "name": "ipython",
    "version": 3
   },
   "file_extension": ".py",
   "mimetype": "text/x-python",
   "name": "python",
   "nbconvert_exporter": "python",
   "pygments_lexer": "ipython3",
   "version": "3.7.0"
  }
 },
 "nbformat": 4,
 "nbformat_minor": 2
}
